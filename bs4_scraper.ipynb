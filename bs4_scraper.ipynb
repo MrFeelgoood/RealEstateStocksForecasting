{
  "cells": [
    {
      "cell_type": "code",
      "execution_count": 1,
      "metadata": {
        "id": "MlcLnuQuhQuJ"
      },
      "outputs": [],
      "source": [
        "import pandas as pd\n",
        "import time\n",
        "import requests\n",
        "from bs4 import BeautifulSoup\n",
        "from html import unescape\n",
        "from typing import List, Dict"
      ]
    },
    {
      "cell_type": "code",
      "execution_count": 2,
      "metadata": {
        "id": "9W8qfdeUhjPi"
      },
      "outputs": [],
      "source": [
        "def get_page(url):\n",
        "    page = requests.get(url)\n",
        "    soup = BeautifulSoup(page.content, \"html.parser\")\n",
        "    return soup"
      ]
    },
    {
      "cell_type": "code",
      "execution_count": 3,
      "metadata": {
        "id": "ym1pY7sOhlCY"
      },
      "outputs": [],
      "source": [
        "def get_table(soup):\n",
        "    tables = soup.find_all(\"table\")\n",
        "    return tables[0]"
      ]
    },
    {
      "cell_type": "code",
      "execution_count": 4,
      "metadata": {
        "id": "y_q5bXKshlAK"
      },
      "outputs": [],
      "source": [
        "def convert(index: List[str]) -> List[int]:\n",
        "    return list(map(int, index))"
      ]
    },
    {
      "cell_type": "code",
      "execution_count": 5,
      "metadata": {
        "id": "X6W6QXzJhvDS"
      },
      "outputs": [],
      "source": [
        "def parse_table(table) -> List[Dict]:\n",
        "    trs = table.find_all(\"tr\")\n",
        "\n",
        "    def get_content(tr):\n",
        "        ths = tr.find_all(\"th\")\n",
        "        if not ths:\n",
        "            ths = tr.find_all(\"td\")\n",
        "        return [unescape(th.text).replace(\"\\xa0\", \"\") for th in ths]\n",
        "\n",
        "    def find_min_max(items: List[str]) -> List[Dict]:\n",
        "        result = list()\n",
        "        for item in items:\n",
        "            index1 = item[2:4]\n",
        "            result.append({\"valore_mercato\": convert(index1)})\n",
        "        return result\n",
        "\n",
        "    items = [get_content(tr) for tr in trs]\n",
        "    items = list(filter(lambda x: len(x) == 8, items))\n",
        "    return find_min_max(items)"
      ]
    },
    {
      "cell_type": "code",
      "execution_count": 6,
      "metadata": {
        "id": "d3gCiSU9hx8L"
      },
      "outputs": [],
      "source": [
        "def generate_min_max(tabl):\n",
        "    ll, v = [], set()\n",
        "    for d in tabl:\n",
        "        k = d[\"valore_mercato\"]\n",
        "        ll.append(k)\n",
        "    df = pd.DataFrame(ll).rename(columns={0: 'min', 1: 'max'}).mean()\n",
        "    data = pd.DataFrame(df).transpose()\n",
        "    return data"
      ]
    },
    {
      "cell_type": "code",
      "execution_count": 7,
      "metadata": {
        "id": "5n7C909ezXXj"
      },
      "outputs": [],
      "source": [
        "def scrape_values(urls):\n",
        "  dataframe = pd.DataFrame(columns=['min','max'])\n",
        "  data_broken = [['Broken', 'Broken']]\n",
        "  dt_broken = pd.DataFrame(data_broken, columns=['min','max'])\n",
        "  for url in urls:\n",
        "    try:\n",
        "      page = get_page(url)\n",
        "      parsed_tab = parse_table(get_table(page))\n",
        "      row = generate_min_max(parsed_tab)\n",
        "      dataframe = pd.concat([dataframe, row], axis=0)\n",
        "      time.sleep(1)\n",
        "    except:\n",
        "      dataframe = pd.concat([dataframe, dt_broken])\n",
        "      continue\n",
        "  dataframe['ref_urls'] = urls\n",
        "  dataframe.reset_index(drop=True, inplace=True)\n",
        "  print('Dataset succesfully created:')\n",
        "  display(dataframe.head())\n",
        "  return dataframe"
      ]
    },
    {
      "cell_type": "markdown",
      "metadata": {
        "id": "CVMKSY-lcZrm"
      },
      "source": [
        "Proviamo il bs4 scraper"
      ]
    },
    {
      "cell_type": "code",
      "execution_count": 8,
      "metadata": {
        "id": "KCBhR6fMhZnr"
      },
      "outputs": [],
      "source": [
        "URL1 = \"https://www1.agenziaentrate.gov.it/servizi/geopoi_omi/stampa.php?id=2157&pr=CE&co=B963&linkzona=CE00003358&idstrada=&anno_semestre=20221&fasciazona=Centrale/CENTRO%20URBANO%20A%20SUD%20DEL%20CENTRO%20STORICO&utilizzo=Commerciale&codzona=B5&lingua=IT&bt1=Mostra%20valori&E=14.334402&N=41.068798\"\n",
        "URL2 = \"https://www1.agenziaentrate.gov.it/servizi/geopoi_omi/stampa.php?id=2157&pr=TP&co=F061&linkzona=TP00001360&idstrada=&anno_semestre=20221&fasciazona=Semicentrale/ZONA%20ANULARE%20ESTERNA%20AL%20CENTRO%20URBANO&utilizzo=Commerciale&codzona=C1&lingua=IT&bt1=Mostra%20valori&E=12.594715&N=37.649745\"\n",
        "URL3 = \"https://www1.agenziaentrate.gov.it/servizi/geopoi_omi/stampa.php?id=2157&pr=AP&co=D542&linkzona=AP00000351&idstrada=&anno_semestre=20221&fasciazona=Semicentrale/FASCIA%20PERIMETRALE%20INTORNO%20AL%20CENTRO%20STORICO&utilizzo=Commerciale&codzona=C1&lingua=IT&bt1=Mostra%20valori&E=13.722029&N=43.161035\"\n",
        "URL4 = \"https://www.google.it/\"\n",
        "URL5 = \"blanksnekkecot34o\""
      ]
    },
    {
      "cell_type": "code",
      "execution_count": 9,
      "metadata": {
        "id": "_Box-3M94Yns"
      },
      "outputs": [],
      "source": [
        "prova = []\n",
        "prova.append(URL1)\n",
        "prova.append(URL2)\n",
        "prova.append(URL5)\n",
        "prova.append(URL3)\n",
        "prova.append(URL4)"
      ]
    },
    {
      "cell_type": "code",
      "execution_count": 10,
      "metadata": {
        "colab": {
          "base_uri": "https://localhost:8080/",
          "height": 224
        },
        "id": "FUust44T4N0j",
        "outputId": "efc30ae8-3e30-45f5-ecde-719503306149"
      },
      "outputs": [
        {
          "name": "stdout",
          "output_type": "stream",
          "text": [
            "Dataset succesfully created:\n"
          ]
        },
        {
          "data": {
            "text/html": [
              "\n",
              "  <div id=\"df-cb9fb70a-9ef5-4bba-804f-7c5211a53d88\">\n",
              "    <div class=\"colab-df-container\">\n",
              "      <div>\n",
              "<style scoped>\n",
              "    .dataframe tbody tr th:only-of-type {\n",
              "        vertical-align: middle;\n",
              "    }\n",
              "\n",
              "    .dataframe tbody tr th {\n",
              "        vertical-align: top;\n",
              "    }\n",
              "\n",
              "    .dataframe thead th {\n",
              "        text-align: right;\n",
              "    }\n",
              "</style>\n",
              "<table border=\"1\" class=\"dataframe\">\n",
              "  <thead>\n",
              "    <tr style=\"text-align: right;\">\n",
              "      <th></th>\n",
              "      <th>min</th>\n",
              "      <th>max</th>\n",
              "      <th>ref_urls</th>\n",
              "    </tr>\n",
              "  </thead>\n",
              "  <tbody>\n",
              "    <tr>\n",
              "      <th>0</th>\n",
              "      <td>1550.0</td>\n",
              "      <td>3100.0</td>\n",
              "      <td>https://www1.agenziaentrate.gov.it/servizi/geo...</td>\n",
              "    </tr>\n",
              "    <tr>\n",
              "      <th>1</th>\n",
              "      <td>700.0</td>\n",
              "      <td>1050.0</td>\n",
              "      <td>https://www1.agenziaentrate.gov.it/servizi/geo...</td>\n",
              "    </tr>\n",
              "    <tr>\n",
              "      <th>2</th>\n",
              "      <td>Broken</td>\n",
              "      <td>Broken</td>\n",
              "      <td>blanksnekkecot34o</td>\n",
              "    </tr>\n",
              "    <tr>\n",
              "      <th>3</th>\n",
              "      <td>865.0</td>\n",
              "      <td>1240.0</td>\n",
              "      <td>https://www1.agenziaentrate.gov.it/servizi/geo...</td>\n",
              "    </tr>\n",
              "    <tr>\n",
              "      <th>4</th>\n",
              "      <td>NaN</td>\n",
              "      <td>NaN</td>\n",
              "      <td>https://www.google.it/</td>\n",
              "    </tr>\n",
              "  </tbody>\n",
              "</table>\n",
              "</div>\n",
              "      <button class=\"colab-df-convert\" onclick=\"convertToInteractive('df-cb9fb70a-9ef5-4bba-804f-7c5211a53d88')\"\n",
              "              title=\"Convert this dataframe to an interactive table.\"\n",
              "              style=\"display:none;\">\n",
              "        \n",
              "  <svg xmlns=\"http://www.w3.org/2000/svg\" height=\"24px\"viewBox=\"0 0 24 24\"\n",
              "       width=\"24px\">\n",
              "    <path d=\"M0 0h24v24H0V0z\" fill=\"none\"/>\n",
              "    <path d=\"M18.56 5.44l.94 2.06.94-2.06 2.06-.94-2.06-.94-.94-2.06-.94 2.06-2.06.94zm-11 1L8.5 8.5l.94-2.06 2.06-.94-2.06-.94L8.5 2.5l-.94 2.06-2.06.94zm10 10l.94 2.06.94-2.06 2.06-.94-2.06-.94-.94-2.06-.94 2.06-2.06.94z\"/><path d=\"M17.41 7.96l-1.37-1.37c-.4-.4-.92-.59-1.43-.59-.52 0-1.04.2-1.43.59L10.3 9.45l-7.72 7.72c-.78.78-.78 2.05 0 2.83L4 21.41c.39.39.9.59 1.41.59.51 0 1.02-.2 1.41-.59l7.78-7.78 2.81-2.81c.8-.78.8-2.07 0-2.86zM5.41 20L4 18.59l7.72-7.72 1.47 1.35L5.41 20z\"/>\n",
              "  </svg>\n",
              "      </button>\n",
              "      \n",
              "  <style>\n",
              "    .colab-df-container {\n",
              "      display:flex;\n",
              "      flex-wrap:wrap;\n",
              "      gap: 12px;\n",
              "    }\n",
              "\n",
              "    .colab-df-convert {\n",
              "      background-color: #E8F0FE;\n",
              "      border: none;\n",
              "      border-radius: 50%;\n",
              "      cursor: pointer;\n",
              "      display: none;\n",
              "      fill: #1967D2;\n",
              "      height: 32px;\n",
              "      padding: 0 0 0 0;\n",
              "      width: 32px;\n",
              "    }\n",
              "\n",
              "    .colab-df-convert:hover {\n",
              "      background-color: #E2EBFA;\n",
              "      box-shadow: 0px 1px 2px rgba(60, 64, 67, 0.3), 0px 1px 3px 1px rgba(60, 64, 67, 0.15);\n",
              "      fill: #174EA6;\n",
              "    }\n",
              "\n",
              "    [theme=dark] .colab-df-convert {\n",
              "      background-color: #3B4455;\n",
              "      fill: #D2E3FC;\n",
              "    }\n",
              "\n",
              "    [theme=dark] .colab-df-convert:hover {\n",
              "      background-color: #434B5C;\n",
              "      box-shadow: 0px 1px 3px 1px rgba(0, 0, 0, 0.15);\n",
              "      filter: drop-shadow(0px 1px 2px rgba(0, 0, 0, 0.3));\n",
              "      fill: #FFFFFF;\n",
              "    }\n",
              "  </style>\n",
              "\n",
              "      <script>\n",
              "        const buttonEl =\n",
              "          document.querySelector('#df-cb9fb70a-9ef5-4bba-804f-7c5211a53d88 button.colab-df-convert');\n",
              "        buttonEl.style.display =\n",
              "          google.colab.kernel.accessAllowed ? 'block' : 'none';\n",
              "\n",
              "        async function convertToInteractive(key) {\n",
              "          const element = document.querySelector('#df-cb9fb70a-9ef5-4bba-804f-7c5211a53d88');\n",
              "          const dataTable =\n",
              "            await google.colab.kernel.invokeFunction('convertToInteractive',\n",
              "                                                     [key], {});\n",
              "          if (!dataTable) return;\n",
              "\n",
              "          const docLinkHtml = 'Like what you see? Visit the ' +\n",
              "            '<a target=\"_blank\" href=https://colab.research.google.com/notebooks/data_table.ipynb>data table notebook</a>'\n",
              "            + ' to learn more about interactive tables.';\n",
              "          element.innerHTML = '';\n",
              "          dataTable['output_type'] = 'display_data';\n",
              "          await google.colab.output.renderOutput(dataTable, element);\n",
              "          const docLink = document.createElement('div');\n",
              "          docLink.innerHTML = docLinkHtml;\n",
              "          element.appendChild(docLink);\n",
              "        }\n",
              "      </script>\n",
              "    </div>\n",
              "  </div>\n",
              "  "
            ],
            "text/plain": [
              "      min     max                                           ref_urls\n",
              "0  1550.0  3100.0  https://www1.agenziaentrate.gov.it/servizi/geo...\n",
              "1   700.0  1050.0  https://www1.agenziaentrate.gov.it/servizi/geo...\n",
              "2  Broken  Broken                                  blanksnekkecot34o\n",
              "3   865.0  1240.0  https://www1.agenziaentrate.gov.it/servizi/geo...\n",
              "4     NaN     NaN                             https://www.google.it/"
            ]
          },
          "metadata": {},
          "output_type": "display_data"
        }
      ],
      "source": [
        "datafra = scrape_values(prova)"
      ]
    }
  ],
  "metadata": {
    "colab": {
      "provenance": []
    },
    "kernelspec": {
      "display_name": "Python 3",
      "name": "python3"
    },
    "language_info": {
      "name": "python"
    }
  },
  "nbformat": 4,
  "nbformat_minor": 0
}
