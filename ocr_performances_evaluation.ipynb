{
  "nbformat": 4,
  "nbformat_minor": 0,
  "metadata": {
    "colab": {
      "provenance": []
    },
    "kernelspec": {
      "name": "python3",
      "display_name": "Python 3"
    },
    "language_info": {
      "name": "python"
    },
    "accelerator": "GPU",
    "gpuClass": "standard"
  },
  "cells": [
    {
      "cell_type": "code",
      "source": [
        "!sudo apt install libtesseract-dev\n",
        "!sudo apt install tesseract-ocr-ita\n",
        "!pip install pytesseract -q\n",
        "!pip install PyPDF2 -q\n",
        "!pip install pdf2image -q\n",
        "!pip install pymupdf -q\n",
        "!apt-get install poppler-utils -q\n",
        "!pip install easyocr -q"
      ],
      "metadata": {
        "colab": {
          "base_uri": "https://localhost:8080/"
        },
        "id": "yXQW__8KYSN4",
        "outputId": "aac68dfd-d23f-40cb-a306-0327d26da260"
      },
      "execution_count": null,
      "outputs": [
        {
          "output_type": "stream",
          "name": "stdout",
          "text": [
            "Reading package lists... Done\n",
            "Building dependency tree       \n",
            "Reading state information... Done\n",
            "The following additional packages will be installed:\n",
            "  libarchive-dev libleptonica-dev\n",
            "The following NEW packages will be installed:\n",
            "  libarchive-dev libleptonica-dev libtesseract-dev\n",
            "0 upgraded, 3 newly installed, 0 to remove and 23 not upgraded.\n",
            "Need to get 3,343 kB of archives.\n",
            "After this operation, 15.7 MB of additional disk space will be used.\n",
            "Get:1 http://archive.ubuntu.com/ubuntu focal-updates/main amd64 libarchive-dev amd64 3.4.0-2ubuntu1.2 [491 kB]\n",
            "Get:2 http://archive.ubuntu.com/ubuntu focal/universe amd64 libleptonica-dev amd64 1.79.0-1 [1,389 kB]\n",
            "Get:3 http://archive.ubuntu.com/ubuntu focal/universe amd64 libtesseract-dev amd64 4.1.1-2build2 [1,463 kB]\n",
            "Fetched 3,343 kB in 1s (3,426 kB/s)\n",
            "debconf: unable to initialize frontend: Dialog\n",
            "debconf: (No usable dialog-like program is installed, so the dialog based frontend cannot be used. at /usr/share/perl5/Debconf/FrontEnd/Dialog.pm line 76, <> line 3.)\n",
            "debconf: falling back to frontend: Readline\n",
            "debconf: unable to initialize frontend: Readline\n",
            "debconf: (This frontend requires a controlling tty.)\n",
            "debconf: falling back to frontend: Teletype\n",
            "dpkg-preconfigure: unable to re-open stdin: \n",
            "Selecting previously unselected package libarchive-dev:amd64.\n",
            "(Reading database ... 128276 files and directories currently installed.)\n",
            "Preparing to unpack .../libarchive-dev_3.4.0-2ubuntu1.2_amd64.deb ...\n",
            "Unpacking libarchive-dev:amd64 (3.4.0-2ubuntu1.2) ...\n",
            "Selecting previously unselected package libleptonica-dev:amd64.\n",
            "Preparing to unpack .../libleptonica-dev_1.79.0-1_amd64.deb ...\n",
            "Unpacking libleptonica-dev:amd64 (1.79.0-1) ...\n",
            "Selecting previously unselected package libtesseract-dev:amd64.\n",
            "Preparing to unpack .../libtesseract-dev_4.1.1-2build2_amd64.deb ...\n",
            "Unpacking libtesseract-dev:amd64 (4.1.1-2build2) ...\n",
            "Setting up libleptonica-dev:amd64 (1.79.0-1) ...\n",
            "Setting up libarchive-dev:amd64 (3.4.0-2ubuntu1.2) ...\n",
            "Setting up libtesseract-dev:amd64 (4.1.1-2build2) ...\n",
            "Processing triggers for man-db (2.9.1-1) ...\n",
            "Reading package lists... Done\n",
            "Building dependency tree       \n",
            "Reading state information... Done\n",
            "The following additional packages will be installed:\n",
            "  tesseract-ocr tesseract-ocr-eng tesseract-ocr-osd\n",
            "The following NEW packages will be installed:\n",
            "  tesseract-ocr tesseract-ocr-eng tesseract-ocr-ita tesseract-ocr-osd\n",
            "0 upgraded, 4 newly installed, 0 to remove and 23 not upgraded.\n",
            "Need to get 5,918 kB of archives.\n",
            "After this operation, 19.0 MB of additional disk space will be used.\n",
            "Get:1 http://archive.ubuntu.com/ubuntu focal/universe amd64 tesseract-ocr-eng all 1:4.00~git30-7274cfa-1 [1,598 kB]\n",
            "Get:2 http://archive.ubuntu.com/ubuntu focal/universe amd64 tesseract-ocr-osd all 1:4.00~git30-7274cfa-1 [2,990 kB]\n",
            "Get:3 http://archive.ubuntu.com/ubuntu focal/universe amd64 tesseract-ocr amd64 4.1.1-2build2 [262 kB]\n",
            "Get:4 http://archive.ubuntu.com/ubuntu focal/universe amd64 tesseract-ocr-ita all 1:4.00~git30-7274cfa-1 [1,068 kB]\n",
            "Fetched 5,918 kB in 1s (5,776 kB/s)\n",
            "debconf: unable to initialize frontend: Dialog\n",
            "debconf: (No usable dialog-like program is installed, so the dialog based frontend cannot be used. at /usr/share/perl5/Debconf/FrontEnd/Dialog.pm line 76, <> line 4.)\n",
            "debconf: falling back to frontend: Readline\n",
            "debconf: unable to initialize frontend: Readline\n",
            "debconf: (This frontend requires a controlling tty.)\n",
            "debconf: falling back to frontend: Teletype\n",
            "dpkg-preconfigure: unable to re-open stdin: \n",
            "Selecting previously unselected package tesseract-ocr-eng.\n",
            "(Reading database ... 128407 files and directories currently installed.)\n",
            "Preparing to unpack .../tesseract-ocr-eng_1%3a4.00~git30-7274cfa-1_all.deb ...\n",
            "Unpacking tesseract-ocr-eng (1:4.00~git30-7274cfa-1) ...\n",
            "Selecting previously unselected package tesseract-ocr-osd.\n",
            "Preparing to unpack .../tesseract-ocr-osd_1%3a4.00~git30-7274cfa-1_all.deb ...\n",
            "Unpacking tesseract-ocr-osd (1:4.00~git30-7274cfa-1) ...\n",
            "Selecting previously unselected package tesseract-ocr.\n",
            "Preparing to unpack .../tesseract-ocr_4.1.1-2build2_amd64.deb ...\n",
            "Unpacking tesseract-ocr (4.1.1-2build2) ...\n",
            "Selecting previously unselected package tesseract-ocr-ita.\n",
            "Preparing to unpack .../tesseract-ocr-ita_1%3a4.00~git30-7274cfa-1_all.deb ...\n",
            "Unpacking tesseract-ocr-ita (1:4.00~git30-7274cfa-1) ...\n",
            "Setting up tesseract-ocr-eng (1:4.00~git30-7274cfa-1) ...\n",
            "Setting up tesseract-ocr-ita (1:4.00~git30-7274cfa-1) ...\n",
            "Setting up tesseract-ocr-osd (1:4.00~git30-7274cfa-1) ...\n",
            "Setting up tesseract-ocr (4.1.1-2build2) ...\n",
            "Processing triggers for man-db (2.9.1-1) ...\n",
            "\u001b[2K     \u001b[90m━━━━━━━━━━━━━━━━━━━━━━━━━━━━━━━━━━━━━━\u001b[0m \u001b[32m232.6/232.6 KB\u001b[0m \u001b[31m13.9 MB/s\u001b[0m eta \u001b[36m0:00:00\u001b[0m\n",
            "\u001b[2K     \u001b[90m━━━━━━━━━━━━━━━━━━━━━━━━━━━━━━━━━━━━━━━━\u001b[0m \u001b[32m14.0/14.0 MB\u001b[0m \u001b[31m81.4 MB/s\u001b[0m eta \u001b[36m0:00:00\u001b[0m\n",
            "\u001b[?25hReading package lists...\n",
            "Building dependency tree...\n",
            "Reading state information...\n",
            "The following NEW packages will be installed:\n",
            "  poppler-utils\n",
            "0 upgraded, 1 newly installed, 0 to remove and 23 not upgraded.\n",
            "Need to get 174 kB of archives.\n",
            "After this operation, 754 kB of additional disk space will be used.\n",
            "Get:1 http://archive.ubuntu.com/ubuntu focal-updates/main amd64 poppler-utils amd64 0.86.1-0ubuntu1.1 [174 kB]\n",
            "Fetched 174 kB in 1s (335 kB/s)\n",
            "Selecting previously unselected package poppler-utils.\n",
            "(Reading database ... 128458 files and directories currently installed.)\n",
            "Preparing to unpack .../poppler-utils_0.86.1-0ubuntu1.1_amd64.deb ...\n",
            "Unpacking poppler-utils (0.86.1-0ubuntu1.1) ...\n",
            "Setting up poppler-utils (0.86.1-0ubuntu1.1) ...\n",
            "Processing triggers for man-db (2.9.1-1) ...\n",
            "\u001b[2K     \u001b[90m━━━━━━━━━━━━━━━━━━━━━━━━━━━━━━━━━━━━━━━━\u001b[0m \u001b[32m2.9/2.9 MB\u001b[0m \u001b[31m62.2 MB/s\u001b[0m eta \u001b[36m0:00:00\u001b[0m\n",
            "\u001b[2K     \u001b[90m━━━━━━━━━━━━━━━━━━━━━━━━━━━━━━━━━━━━━━\u001b[0m \u001b[32m608.2/608.2 KB\u001b[0m \u001b[31m49.8 MB/s\u001b[0m eta \u001b[36m0:00:00\u001b[0m\n",
            "\u001b[2K     \u001b[90m━━━━━━━━━━━━━━━━━━━━━━━━━━━━━━━━━━━━━━\u001b[0m \u001b[32m146.0/146.0 KB\u001b[0m \u001b[31m21.8 MB/s\u001b[0m eta \u001b[36m0:00:00\u001b[0m\n",
            "\u001b[2K     \u001b[90m━━━━━━━━━━━━━━━━━━━━━━━━━━━━━━━━━━━━━━━━\u001b[0m \u001b[32m47.6/47.6 MB\u001b[0m \u001b[31m13.2 MB/s\u001b[0m eta \u001b[36m0:00:00\u001b[0m\n",
            "\u001b[?25h"
          ]
        }
      ]
    },
    {
      "cell_type": "code",
      "source": [
        "import cv2\n",
        "import numpy as np\n",
        "import random\n",
        "import string\n",
        "import time\n",
        "import pytesseract"
      ],
      "metadata": {
        "id": "3ag1k9oX-oSY"
      },
      "execution_count": null,
      "outputs": []
    },
    {
      "cell_type": "code",
      "source": [
        "import io\n",
        "import requests\n",
        "import fitz\n",
        "import easyocr"
      ],
      "metadata": {
        "id": "yCQKSLpGnMNZ"
      },
      "execution_count": null,
      "outputs": []
    },
    {
      "cell_type": "code",
      "source": [
        "def string_similarity(s1, s2):\n",
        "    \"\"\"\n",
        "    This function takes in two strings s1 and s2 and returns the similarity\n",
        "    score between them. \n",
        "    Calculates the Levenshtein similarity between two strings.\n",
        "    Returns a value between 0 and 1, where 1 means the strings are identical.\n",
        "    \"\"\"\n",
        "    n = len(s1)\n",
        "    m = len(s2)\n",
        "    if n == 0 or m == 0:\n",
        "        return 0\n",
        "    # create a matrix of size (n+1) x (m+1) to store the edit distances\n",
        "    matrix = [[0] * (m+1) for i in range(n+1)]\n",
        "    for i in range(n+1):\n",
        "        matrix[i][0] = i\n",
        "    for j in range(m+1):\n",
        "        matrix[0][j] = j\n",
        "    # fill in the matrix with edit distances\n",
        "    for i in range(1, n+1):\n",
        "        for j in range(1, m+1):\n",
        "            if s1[i-1] == s2[j-1]:\n",
        "                matrix[i][j] = matrix[i-1][j-1]\n",
        "            else:\n",
        "                matrix[i][j] = min(matrix[i-1][j], matrix[i][j-1], matrix[i-1][j-1]) + 1\n",
        "    # calculate similarity score as 1 - normalized edit distance\n",
        "    similarity = 1 - (matrix[n][m] / max(n, m))\n",
        "    return similarity\n"
      ],
      "metadata": {
        "id": "ojTAS_PXq2Qa"
      },
      "execution_count": null,
      "outputs": []
    },
    {
      "cell_type": "code",
      "source": [
        "def initialize_readers():\n",
        "  readers = []\n",
        "  readers.append(easyocr.Reader(['it'], gpu = False))\n",
        "  readers.append(easyocr.Reader(['it'], gpu = True))\n",
        "  return readers"
      ],
      "metadata": {
        "id": "dH9_AJtnB2L7"
      },
      "execution_count": null,
      "outputs": []
    },
    {
      "cell_type": "code",
      "source": [
        "def get_tesseract_text(img):\n",
        "  text = pytesseract.image_to_string(img)\n",
        "  text = text.replace(\" \", \"\")\n",
        "  text = text.replace('\\n', \"\")\n",
        "  text = '\\n'.join(text[i:i+23] for i in range(0, len(text), 23))\n",
        "  return text"
      ],
      "metadata": {
        "id": "_ECoHDyZBSwG"
      },
      "execution_count": null,
      "outputs": []
    },
    {
      "cell_type": "code",
      "source": [
        "def get_easyOcr_text(img, readers, gpu = False):\n",
        "  if gpu == False:\n",
        "    text_easy = readers[0].readtext(img, batch_size = 50, detail = 0)\n",
        "  elif gpu == True:\n",
        "    text_easy = readers[1].readtext(img, batch_size = 50, detail = 0)\n",
        "  text_easy = ''.join(text_easy)\n",
        "  text_easy = text_easy.replace(\" \", \"\")\n",
        "  text_easy = text_easy.replace('\\n', \"\")\n",
        "  text_easy = '\\n'.join(text_easy[i:i+23] for i in range(0, len(text_easy), 23))\n",
        "  return text_easy"
      ],
      "metadata": {
        "id": "srhB-XfmBnG7"
      },
      "execution_count": null,
      "outputs": []
    },
    {
      "cell_type": "code",
      "source": [
        "def test_ocr():\n",
        "# Define the size of the image\n",
        "  width = 500\n",
        "  line_height = 30\n",
        "  text = \"\"\n",
        "  readers = initialize_readers()\n",
        "  results = []\n",
        "\n",
        "# Generate a random string of 1000 characters\n",
        "  random_string = ''.join(random.choices(string.ascii_uppercase + string.digits, k=1000))\n",
        "\n",
        "# Insert a newline character after every 23 characters\n",
        "  random_string = '\\n'.join(random_string[i:i+23] for i in range(0, len(random_string), 23))\n",
        "  random_string = random_string.replace(\" \", \"\")\n",
        "\n",
        "# Split the text into lines\n",
        "  lines = random_string.split('\\n')\n",
        "\n",
        "# Calculate the required height of the image\n",
        "  height = (len(lines) * line_height) + line_height\n",
        "\n",
        "# Create a blank image\n",
        "  img = np.zeros((height, width, 3), np.uint8)\n",
        "\n",
        "# Set the background to white\n",
        "  cv2.rectangle(img, (0, 0), (width, height), (255, 255, 255), -1)\n",
        "\n",
        "# Choose a random font\n",
        "  font = cv2.FONT_HERSHEY_SIMPLEX\n",
        "\n",
        "# Set the font scale and thickness\n",
        "  font_scale = 1\n",
        "  thickness = 2\n",
        "\n",
        "# Loop through the lines and draw them onto the image\n",
        "  for i, line in enumerate(lines):\n",
        "    # Get the size of the text\n",
        "      text_size = cv2.getTextSize(line, font, font_scale, thickness)[0]\n",
        "\n",
        "    # Set the position of the text\n",
        "      x = int((width - text_size[0]) / 2)\n",
        "      y = int(line_height * (i+1))\n",
        "\n",
        "    # Draw the text onto the image\n",
        "      cv2.putText(img, line, (x, y), font, font_scale, (0, 0, 0), thickness)\n",
        "\n",
        "# Save the image\n",
        "  cv2.imwrite('random_text.png', img)\n",
        "\n",
        "# Time\n",
        "  start_time = time.time()\n",
        "# Load the image into tesseract\n",
        "  txt_tess = get_tesseract_text(img)\n",
        "  time_tesseract = time.time() - start_time\n",
        "  tesseract = {'text': txt_tess, 'time': time_tesseract, 'method': 'tesseract',\n",
        "               'similarity': \"Similarity score: {:.2f}%\".format(string_similarity(random_string, txt_tess))}\n",
        "  results.append(tesseract)\n",
        "# Load the image easyOCR cpu mode\n",
        "  start_time = time.time()\n",
        "  text_easy_cpu = get_easyOcr_text(readers = readers, gpu = False, img = img)\n",
        "  time_easy_cpu = time.time() - start_time\n",
        "  easy_w_CPU = {'text': text_easy_cpu, 'time': time_easy_cpu, 'method': 'easyCPU',\n",
        "                'similarity': \"Similarity score: {:.2f}%\".format(string_similarity(random_string, text_easy_cpu))}\n",
        "  results.append(easy_w_CPU)\n",
        "\n",
        "# Load the image easyOCR cpu mode\n",
        "  start_time = time.time()\n",
        "  text_easy_gpu = get_easyOcr_text(readers = readers, gpu = True, img = img)\n",
        "  time_easy_gpu = time.time() - start_time\n",
        "  easy_w_GPU = {'text': text_easy_gpu, 'time': time_easy_gpu, 'method': 'easyGPU',\n",
        "                'similarity': \"Similarity score: {:.2f}%\".format(string_similarity(random_string, text_easy_gpu))}\n",
        "  results.append(easy_w_GPU)\n",
        "\n",
        "  return results\n"
      ],
      "metadata": {
        "id": "wBjDpIfof8AY"
      },
      "execution_count": null,
      "outputs": []
    },
    {
      "cell_type": "code",
      "source": [
        "test_ocr()"
      ],
      "metadata": {
        "colab": {
          "base_uri": "https://localhost:8080/"
        },
        "id": "kJy0ZgJVC9WD",
        "outputId": "0019261c-923e-4571-e309-7949f3fe1ff8"
      },
      "execution_count": null,
      "outputs": [
        {
          "output_type": "stream",
          "name": "stderr",
          "text": [
            "WARNING:easyocr.easyocr:Using CPU. Note: This module is much faster with a GPU.\n"
          ]
        },
        {
          "output_type": "execute_result",
          "data": {
            "text/plain": [
              "[{'text': '76OKSNSBPYO4YMYDXEOGOZE\\nD4IBAFIVOIAIXLIWRXZ50GI\\nBAJQMEUBIZEEVI12PSDPVSX\\nI948HSLHEVDIPQ1PE60Z617\\n877BG8MDOSPV2W7HWPKSN92\\n8BKSAM4CUGZIZIREHZCE6QS\\nT2YD1KNI4RSYURSMBK6UORS\\nOBEUWXWQSUKDZJOLX52X805\\nSBHSN6JQOSPS8SSS9NI4UID\\nUSBXIY4EOPPNL84YIZOQGWL\\nLAXIDBWK25BLWW8NUOVGHAQ\\nWGKMORJR27ZPFTPS6C104R8\\n5USMSOJGOO22W86KYWX64G2\\n0QMCJHGYJLYPO6BNRKAYRGT\\nNLUGMBXBSE7VOTKS3DCSYXM\\nW6TD1WSAHOCSM8T49IRSZ8C\\nPTIWJQWSFXOPJ9SU7UY1SR4\\nAPQHA1HSIIEBDEHJ4UGOUX7\\nN4LTLOMY9M2HWASRMGZWUQX\\nP7CR4HS1B3Z2G6GY11C6SJ8\\nJZG7N3WC7X074BOEDTEOXXR\\nJ11S36QYROCAL16DNW68FKQ\\nSF6VWC9ZM7RGESQXAVXMBUT\\nOB5EGAR1UQR9KZ4NMIGZ4SI\\nXNXW68XDV3GPIL7YYMJNBW1\\nYUPXAZKSZXJEWPXG6GHXFF2\\n6X1308BTIWO2J66N3JD6HO8\\nWMI4N3USCRT7QY7HBEYHMHC\\nDFHIV4NISOK6FXCHOPWO116\\nUH4U810QOCZ1CV8P9NM7611\\nCTOS7XUJ7LWKYSSDYZMULDD\\nUSOAQSPWOWX1SLURWNH9OVP\\nE8WS9LDM31WHCUUG70YPEI9\\nSB46UD6FO7TR9O1AZXSFHSO\\nIPQSDUJIQ7M3EBE6YZ4LKHM\\nZGYO35R1I6KPFH365D3RSN6\\n00VUHWG6RPENXOBNO4JCKSF\\nEUJSCRNUKW4K1FZE3GCOM9X\\n87DE1HKMEOYMFUQEALWMZG1\\nE9VWXLGYTH1FK99GKSOTCPQ\\nHGZCXIGPZ8PPXCIS6SAZ6IK\\nPVZ65V4242NO9307GUE9F7D\\nMGT40F1W4132AJNZBUIOHF7\\nOOHSLQLKOBI2M1XDEEPVJPO\\nO\\x0c',\n",
              "  'time': 5.61223292350769,\n",
              "  'method': 'tesseract',\n",
              "  'similarity': 'Similarity score: 0.84%'},\n",
              " {'text': '76OKSNSBPYOAYMYDXEOGOZE\\nDAIBAFIVOIAIXLJWRXZSOGI\\nBAJQMEJBIZEEVI12PSDPVSX\\n1948HSLHGVDIPQIPE60Z6I7\\n877BG8MDOSPVZWZHWPKSN92\\n8KSAMACU6ZI2IREHZCE6QST\\n2YDIKNIARSYUR3MBKGUORSO\\n8EUWXWQSUKDZJOLX52X805S\\nBHSNGJQOSP38SS59NI4JIDJ\\n5BXIY4EOPPNL84YIZOQGWLL\\nAXIDBWK2SBLWWBNUOVGHAQW\\nGKMORJR2ZZPFTPS6C104R85\\nUSMSOJGOO22W86KYWX64G20\\n9MCJHGYJLYPOGNRKAYRGTNL\\nUGMBXBSEZVOTKS3DCSYXMWG\\nTD1WSAHOC3M8T49IRSZ8CPT\\nIWJQWSFXOPJIUZUYI5R4APQ\\nHAIH9IIEBDEHJAUGOUXZNAL\\nTLOMYSMZHWASRMGZWUQXPZC\\nRAHS1B3Z2G6GY11C6SJBJZG\\n7N3WC7XO74BOEDTEOXXRJ1S\\n36QYROCAL16DNW68FKQSF6V\\nWC9ZMZRGSQXAVXMBUTO6SEG\\nARIUQRIKZ4NMIGZ4SIXNXW6\\n8XDV3GPILZYYMJNBW1YUPXA\\nZKSZXJEWPXGHXFF26XI308B\\nTWOZJ6GN3JDGHOBWMI4NZUS\\nCRTZQYZHBEYHMHCDFHIVANI\\nSOKGFXCHOPWO116UH4U810Q\\nOCZICVBP9NM7611CTOSZXUJ\\n7LWKYSSDYZMULDDUSOAQSPW\\nOWXISLURWNHSVPEBWSILDM3\\n1WHCUUGTOYPEI95B46UDGFO\\n7TR91AZXSFHSOIPQ9DJIQ7M\\n3EBE6YZALKHMZGYOSRII6KP\\nFH36SD3RSN6OOVUHWGRPSNX\\nOBNOAJCKSFBJSCRNUKWAK1F\\nZEBGCOMIX87DEIHKMEOYMFU\\nQEALWMZG1ESVWXLGYTH1FK9\\n9GKSOTCPQHGZCXIGPZBPPXC\\nIS65AZ6IKPVZ63V4242NO93\\nO7GUE9F7DMGTAOFIW4132AJ\\nNZBUIOHFZOOH3LQLKOBIZM1\\nXDEEPVJPOO',\n",
              "  'time': 12.301789045333862,\n",
              "  'method': 'easyCPU',\n",
              "  'similarity': 'Similarity score: 0.83%'},\n",
              " {'text': '76OKSNSBPYOAYMYDXEOGOZE\\nDAIBAFIVOIAIXLJWRXZSOGI\\nBAJQMEJBIZEEVI12PSDPVSX\\n1948HSLHGVDIPQIPE60Z6I7\\n877BG8MDOSPVZWZHWPKSN92\\n8KSAMACUGZI2IREHZCE6QST\\n2YDIKNIARSYUR3MBKGUORSO\\n8EUWXWQSUKDZJOLX52X805S\\nBHSNGJQOSP38SS59NI4JIDJ\\n5BXIY4EOPPNL84YIZOQGWLL\\nAXIDBWK2SBLWWBNUOVGHAQW\\nGKMORJR2ZZPFTPS6C104R85\\nUSMSOJGOO22W86KYWX64G20\\n9MCJHGYJLYPOGNRKAYRGTNL\\nUGMBXBSEZVOTKS3DCSYXMWG\\nTD1WSAHOC3M8T49IR5Z8CPT\\nIWJQWSFXOPJIUZUYI5R4APQ\\nHAIH9IIEBDEHJAUGOUXZNAL\\nTLOMYSMZHWASRMGZWUQXPZC\\nRAHS1B3Z2G6GY11C6SJBJZG\\n7N3WC7XO74BOEDTEOXXRJ1S\\n36QYROCAL16DNW68FKQSF6V\\nWC9ZMZRGSQXAVXMBUTO6SEG\\nARIUQRIKZ4NMIGZ4SIXNXW6\\n8XDV3GPILZYYMJNBW1YUPXA\\nZKSZXJEWPXGHXFF26XI308B\\nTWOZJ6GN3JDGHOBWMIANZUS\\nCRTZQYZHBEYHMHCDFHIVANI\\nSOKGFXCHOPWO116UH4U810Q\\nOCZICVBP9NM7611CTOS7XUJ\\n7LWKYSSDYZMULDDUSOAQSPW\\nOWXISLURWNHSVPEBWSILDM3\\n1WHCUUGTOYPEI95B46UDGFO\\n7TR91AZXSFHSOIPQ9DJIQ7M\\n3EBEGYZALKHMZGYO3RII6KP\\nFH36SD3RSN6OOVUHWGRPSNX\\nOBNOAJCKSFBJSCRNUKWAK1F\\nZEBGCOMIX87DEIHKMEOYMFU\\nQEALWMZG1ESVWXLGYTH1FK9\\n9GKSOTCPQHGZCXIGPZBPPXC\\nIS65AZ6IKPVZ63V4242NO93\\nO7GUE9F7DMGTAOFIW4132AJ\\nNZBUIOHFZOOH3LQLKOBIZM1\\nXDEEPVJPOO',\n",
              "  'time': 0.46103739738464355,\n",
              "  'method': 'easyGPU',\n",
              "  'similarity': 'Similarity score: 0.83%'}]"
            ]
          },
          "metadata": {},
          "execution_count": 16
        }
      ]
    },
    {
      "cell_type": "code",
      "source": [],
      "metadata": {
        "id": "c3QCKV4DD5Vf"
      },
      "execution_count": null,
      "outputs": []
    },
    {
      "cell_type": "markdown",
      "source": [],
      "metadata": {
        "id": "40WK3Uxcf71l"
      }
    },
    {
      "cell_type": "markdown",
      "source": [],
      "metadata": {
        "id": "lk-5BZYQdOV9"
      }
    }
  ]
}