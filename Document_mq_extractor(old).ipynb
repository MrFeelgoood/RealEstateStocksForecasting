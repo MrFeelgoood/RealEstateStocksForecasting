{
  "cells": [
    {
      "cell_type": "code",
      "execution_count": 3,
      "metadata": {
        "id": "Q1TrtfZhfhlD"
      },
      "outputs": [],
      "source": [
        "!pip install transformers -q\n",
        "!pip install spacy -q\n",
        "!python -m spacy download it_core_news_lg\n",
        "#!sudo apt install libtesseract-dev\n",
        "!sudo apt install tesseract-ocr-ita\n",
        "!pip install pytesseract -q\n",
        "!pip install PyPDF2 -q\n",
        "!pip install pdf2image -q\n",
        "!pip install pymupdf -q\n",
        "!apt-get install poppler-utils -q\n",
        "!pip install easyocr -q\n",
        "!pip install gradio -q\n",
        "from IPython.display import clear_output\n",
        "clear_output(wait=False)"
      ]
    },
    {
      "cell_type": "code",
      "execution_count": 4,
      "metadata": {
        "id": "6vvdA4S4fcQh"
      },
      "outputs": [],
      "source": [
        "import spacy\n",
        "from spacy.language import Language\n",
        "from spacy.lang.it import Italian\n",
        "import re\n",
        "from transformers import pipeline\n",
        "from gradio.inputs import File\n",
        "import gradio as gr\n",
        "from pdf2image import convert_from_path\n",
        "import pytesseract\n",
        "import tempfile\n",
        "import os\n",
        "from gradio.inputs import Dropdown\n",
        "import gradio as gr\n",
        "import tempfile\n",
        "import os\n",
        "from pdf2image import convert_from_path\n",
        "import pytesseract\n",
        "from IPython.display import Markdown"
      ]
    },
    {
      "cell_type": "code",
      "execution_count": 5,
      "metadata": {
        "id": "yqrwOuY_gNnM"
      },
      "outputs": [],
      "source": [
        "def preprocess_punctuation(text):\n",
        "  pattern = r'(?<![a-z])[a-zA-Z\\.]{1,4}(?:\\.[a-zA-Z\\.]{1,4})*\\.(?!\\s*[A-Z])'\n",
        "  matches = re.findall(pattern, text)\n",
        "  res = [*set(matches)]\n",
        "  #res = [r for r in res if not nlp(r).ents or \n",
        "       #not any(ent.label_ in nlp.get_pipe('ner').labels for ent in nlp(r).ents)] #optimized\n",
        "  return res"
      ]
    },
    {
      "cell_type": "code",
      "execution_count": 6,
      "metadata": {
        "id": "8Ec-UunFgWna"
      },
      "outputs": [],
      "source": [
        "def preprocess_text(text):\n",
        "  prep_text = re.sub(r'\\n\\s*\\n', '\\n', text)\n",
        "  prep_text = re.sub(r'\\n{2,}', '\\n', prep_text)\n",
        "#string_with_single_newlines_and_no_blank_lines = re.sub(r' {2,}', ' ', string_with_single_newlines_and_no_blank_lines)\n",
        "#print(string_with_single_newlines_and_no_blank_lines)\n",
        "  return prep_text"
      ]
    },
    {
      "cell_type": "code",
      "execution_count": 7,
      "metadata": {
        "id": "yoFEVjYaf7ZR"
      },
      "outputs": [],
      "source": [
        "@Language.component('custom_tokenizer')\n",
        "def custom_tokenizer(doc):\n",
        "    # Define a custom rule to ignore colons as a sentence boundary\n",
        "    for token in doc[:-1]:\n",
        "        if (token.text == \":\"):\n",
        "            doc[token.i+1].is_sent_start = False\n",
        "    return doc"
      ]
    },
    {
      "cell_type": "code",
      "execution_count": 8,
      "metadata": {
        "id": "3n3SADPyf8Hm"
      },
      "outputs": [],
      "source": [
        "def get_sentences(text, dictionary = None):\n",
        "  cl_sentences = []\n",
        "  chars_to_strip = [' ', '\\n']\n",
        "  chars_to_strip_str = ''.join(set(chars_to_strip))\n",
        "  nlp = spacy.load(\"it_core_news_lg\")  #load ita moodel\n",
        "  nlp.add_pipe(\"custom_tokenizer\", before=\"parser\")\n",
        "\n",
        "  for punct in preprocess_punctuation(text):\n",
        "    nlp.tokenizer.add_special_case(punct, [{spacy.symbols.ORTH: punct, spacy.symbols.NORM: punct}])\n",
        "\n",
        "  doc = nlp(text)  # Process the text with spaCy\n",
        "  sentences = list(doc.sents)  # Split the text into sentences\n",
        "  for sentence in sentences:\n",
        "    sent = sentence.text\n",
        "    cl_sentence = ' '.join(filter(None, sent.lstrip(chars_to_strip_str).rstrip(chars_to_strip_str).split(' ')))\n",
        "    if cl_sentence!= '':\n",
        "      cl_sentences.append(cl_sentence)\n",
        "      #print(cl_sentence)\n",
        "      #print(\"---------------\")\n",
        "  return cl_sentences"
      ]
    },
    {
      "cell_type": "code",
      "execution_count": 9,
      "metadata": {
        "id": "qfj7mRzJgv3-"
      },
      "outputs": [],
      "source": [
        "import re\n",
        "\n",
        "def extract_numbers(text, given_strings):\n",
        "    # Split text into a list of words\n",
        "    words = text.split()\n",
        "    # Find the indices of the given strings in the list of words\n",
        "    indices = [i for i, word in enumerate(words) if any(s in word for s in given_strings)]\n",
        "    # Initialize an empty list to store the numbers\n",
        "    numbers = []\n",
        "    # Loop through each index\n",
        "    for index in indices:\n",
        "        # Define the range of words to search for numbers\n",
        "        start = max(index - 1, 0)\n",
        "        end = min(index + 2, len(words))\n",
        "        # Extract the words within the range\n",
        "        context = words[start:end]\n",
        "        # Check if the context contains mathematical operators\n",
        "        if any(re.match(r'[+\\*/]', word) for word in context):\n",
        "            continue\n",
        "        # Find all numbers in the context\n",
        "        context_numbers = [\n",
        "            float(re.sub('[^0-9\\.,]+', '', word).replace(',', '.'))\n",
        "            if re.sub('[^0-9\\.,]+', '', word).replace(',', '.').replace('.', '', 1).isdigit()\n",
        "            else int(re.sub('[^0-9]+', '', word))\n",
        "            if re.sub('[^0-9]+', '', word).isdigit()\n",
        "            else None\n",
        "            for word in context\n",
        "        ]\n",
        "        # Add the numbers to the list\n",
        "        numbers.extend(context_numbers)\n",
        "    return numbers\n"
      ]
    },
    {
      "cell_type": "code",
      "execution_count": 10,
      "metadata": {
        "id": "zP8KiwBGhFxK"
      },
      "outputs": [],
      "source": [
        "def get_text_and_values(text, key_list):\n",
        "  sentences = get_sentences(text)\n",
        "  total_numbers= []\n",
        "  infoDict = {}\n",
        "  for sentence in sentences:\n",
        "    numbers = extract_numbers(text = sentence, given_strings = key_list)\n",
        "    total_numbers.append(numbers)\n",
        "    if not numbers:\n",
        "      continue\n",
        "    else: infoDict[sentence] = numbers\n",
        "  return infoDict"
      ]
    },
    {
      "cell_type": "code",
      "execution_count": 11,
      "metadata": {
        "id": "xHjG5Yk1hJfT"
      },
      "outputs": [],
      "source": [
        "def get_useful_text(dictionary):\n",
        "  keysList = list(dictionary.keys())\n",
        "  tx = ('\\n------------------------\\n'.join(keysList))\n",
        "  return tx"
      ]
    },
    {
      "cell_type": "code",
      "execution_count": 12,
      "metadata": {
        "id": "fKzSnAMGhMFs"
      },
      "outputs": [],
      "source": [
        "def get_values(dictionary):\n",
        "  pr = list(dictionary.values())\n",
        "  return pr"
      ]
    },
    {
      "cell_type": "code",
      "execution_count": 13,
      "metadata": {
        "id": "mX1lpUDNhOl1"
      },
      "outputs": [],
      "source": [
        "def initialize_qa_transformer(model):\n",
        "  qa = pipeline(\"text2text-generation\", model=model)\n",
        "  return qa"
      ]
    },
    {
      "cell_type": "code",
      "execution_count": 14,
      "metadata": {
        "id": "r-SZjTL2hRAM"
      },
      "outputs": [],
      "source": [
        "def get_answers_unfiltered(dictionary, question, qa_pipeline):\n",
        "  keysList = list(dictionary.keys())\n",
        "  answers = []\n",
        "  for kl in keysList:\n",
        "    answer = qa_pipeline(f'{kl} Domanda: {question}')\n",
        "    answers.append(answer)\n",
        "  return answers"
      ]
    },
    {
      "cell_type": "code",
      "execution_count": 15,
      "metadata": {
        "id": "HtdpGEnGhbtC"
      },
      "outputs": [],
      "source": [
        "def get_total(answered_values, text, keywords, raw_values, unique_values = False):\n",
        "  numeric_list = [num for sublist in raw_values for num in sublist if isinstance(num, (int, float))]\n",
        "  #numbers = [float(x[0]['generated_text']) for x in answered_values if x[0]['generated_text'].isdigit()]\n",
        "  pattern = r'\\d+(?:[.,]\\d+)?'\n",
        "  numbers = []\n",
        "  for sub_lst in answered_values:\n",
        "      for d in sub_lst:\n",
        "          for k, v in d.items():\n",
        "            # Replace commas with dots\n",
        "              v = v.replace(',', '.')\n",
        "            # Extract numbers and convert to float\n",
        "              numbers += [float(match) for match in re.findall(pattern, v) if (float(match) >= 5.0) and (float(match) in numeric_list)]\n",
        "  ###### remove duplicates\n",
        "  if unique_values:\n",
        "    numbers = list(set(numbers))\n",
        "  ######\n",
        "  total = 0\n",
        "  sum = 0\n",
        "  total_list = []\n",
        "# Define a regular expression pattern that will match a number\n",
        "  pattern = r'\\d+'\n",
        "# Loop through the keywords and search for them in the text\n",
        "  found = False\n",
        "  for keyword in keywords:\n",
        "    # Build a regular expression pattern that looks for the keyword\n",
        "    # followed by up to three words, then a number\n",
        "      keyword_pattern = f'{keyword}(\\\\s+\\\\w+){{0,3}}\\\\s+({pattern})'\n",
        "      match = re.search(keyword_pattern, text, re.IGNORECASE)\n",
        "      if match:\n",
        "        # If we find a match, print the number and set found to True\n",
        "          number = match.group(2)\n",
        "          if (number in numbers) and (number in numeric_list):\n",
        "            total_list.append(int(number))\n",
        "            print(f\"Found a value ({number}) for keyword '{keyword}'.\")\n",
        "            found = True  \n",
        "\n",
        "# If we didn't find a match\n",
        "  if not found:\n",
        "    for value in numbers:\n",
        "      if value in numeric_list:\n",
        "        total += value\n",
        "    total_list.append(total)\n",
        " #If there is more than one total, it means different lots with many total measures for each house. Calculate the sum of the totals mq  \n",
        "  for value in total_list:\n",
        "    sum += value\n",
        "  return numbers, sum"
      ]
    },
    {
      "cell_type": "code",
      "execution_count": 16,
      "metadata": {
        "id": "6a2aXRllWy58"
      },
      "outputs": [],
      "source": [
        "def extractor_clean(text, k_words, transformer, question, total_kwords, return_text = False):\n",
        "\n",
        "  tex = ''\n",
        "  dictionary = get_text_and_values(text, k_words)\n",
        "  raw = get_values(dictionary)\n",
        "  qa = initialize_qa_transformer(transformer)\n",
        "  val = get_answers_unfiltered(dictionary, question = question, qa_pipeline = qa)\n",
        "  keywords = ['totale', 'complessivo', 'complessiva']\n",
        "  values = get_total(answered_values= val, raw_values = raw, text = text, keywords = total_kwords, unique_values = True)\n",
        "  if return_text:\n",
        "    tex = get_useful_text(dictionary)\n",
        "    return values, return_text, tex\n",
        "  elif return_text == False:\n",
        "    return values, return_text"
      ]
    },
    {
      "attachments": {},
      "cell_type": "markdown",
      "metadata": {
        "id": "21UBejOXgB7Y"
      },
      "source": []
    },
    {
      "attachments": {},
      "cell_type": "markdown",
      "metadata": {
        "id": "IDTVfaMMnXAE"
      },
      "source": [
        "Altre prove"
      ]
    },
    {
      "attachments": {},
      "cell_type": "markdown",
      "metadata": {
        "id": "EGLt5TBZ_KAP"
      },
      "source": []
    },
    {
      "cell_type": "code",
      "execution_count": 17,
      "metadata": {
        "id": "M_Qz442PErwd"
      },
      "outputs": [],
      "source": [
        "def ocr_interface(pdf_file, ):\n",
        "    # Call the pdf_ocr function\n",
        "    values, total, text = pdf_ocr(pdf_file.name)\n",
        "    return values, total, text\n"
      ]
    },
    {
      "cell_type": "code",
      "execution_count": 18,
      "metadata": {
        "id": "wKuxCI-Gg0Fs"
      },
      "outputs": [],
      "source": [
        "def format_output(extracted_values):\n",
        "    output = {}\n",
        "    values_output = \"\\n\".join([f\"mq. {value}\" for value in extracted_values[0]])\n",
        "    output[\"Mq. Values\"] = values_output\n",
        "    output[\"Total\"] = extracted_values[1]\n",
        "    if extracted_values[2]:\n",
        "        output[\"Ref. Text\"] = extracted_values[2]\n",
        "    return output\n"
      ]
    },
    {
      "attachments": {},
      "cell_type": "markdown",
      "metadata": {},
      "source": [
        "//SOME TESTS"
      ]
    },
    {
      "cell_type": "code",
      "execution_count": 19,
      "metadata": {
        "id": "okqgCiFwli0w"
      },
      "outputs": [],
      "source": [
        "import gradio as gr\n",
        "import tempfile\n",
        "import fitz\n",
        "from pdf2image import convert_from_bytes\n",
        "import pytesseract"
      ]
    },
    {
      "cell_type": "code",
      "execution_count": null,
      "metadata": {
        "colab": {
          "base_uri": "https://localhost:8080/",
          "height": 827
        },
        "id": "oFAKQ-wFDXjg",
        "outputId": "4d447636-236d-407c-99a3-446f388935c7"
      },
      "outputs": [
        {
          "name": "stderr",
          "output_type": "stream",
          "text": [
            "/usr/local/lib/python3.10/dist-packages/gradio/inputs.py:349: UserWarning: Usage of gradio.inputs is deprecated, and will not be supported in the future, please import your components from gradio.components\n",
            "  warnings.warn(\n",
            "/usr/local/lib/python3.10/dist-packages/gradio/inputs.py:352: UserWarning: `optional` parameter is deprecated, and it has no effect\n",
            "  super().__init__(\n",
            "/usr/local/lib/python3.10/dist-packages/gradio/inputs.py:352: UserWarning: `keep_filename` parameter is deprecated, and it has no effect\n",
            "  super().__init__(\n",
            "/usr/local/lib/python3.10/dist-packages/gradio/outputs.py:22: UserWarning: Usage of gradio.outputs is deprecated, and will not be supported in the future, please import your components from gradio.components\n",
            "  warnings.warn(\n",
            "<ipython-input-17-1dbc30dbb13e>:43: UserWarning: You have unused kwarg parameters in Interface, please remove them: {'preprocess': <function format_output at 0x7f104b418940>}\n",
            "  iface = gr.Interface(fn=ocr_interface, inputs=pdf_input, title=\"PDF MQ EXTRACTOR\", outputs=[values_output, total_output, text_output], preprocess=format_output)\n"
          ]
        },
        {
          "name": "stdout",
          "output_type": "stream",
          "text": [
            "Colab notebook detected. This cell will run indefinitely so that you can see errors and logs. To turn off, set debug=False in launch().\n",
            "Note: opening Chrome Inspector may crash demo inside Colab notebooks.\n",
            "\n",
            "To create a public link, set `share=True` in `launch()`.\n"
          ]
        },
        {
          "data": {
            "application/javascript": "(async (port, path, width, height, cache, element) => {\n                        if (!google.colab.kernel.accessAllowed && !cache) {\n                            return;\n                        }\n                        element.appendChild(document.createTextNode(''));\n                        const url = await google.colab.kernel.proxyPort(port, {cache});\n\n                        const external_link = document.createElement('div');\n                        external_link.innerHTML = `\n                            <div style=\"font-family: monospace; margin-bottom: 0.5rem\">\n                                Running on <a href=${new URL(path, url).toString()} target=\"_blank\">\n                                    https://localhost:${port}${path}\n                                </a>\n                            </div>\n                        `;\n                        element.appendChild(external_link);\n\n                        const iframe = document.createElement('iframe');\n                        iframe.src = new URL(path, url).toString();\n                        iframe.height = height;\n                        iframe.allow = \"autoplay; camera; microphone; clipboard-read; clipboard-write;\"\n                        iframe.width = width;\n                        iframe.style.border = 0;\n                        element.appendChild(iframe);\n                    })(7860, \"/\", \"100%\", 500, false, window.element)",
            "text/plain": [
              "<IPython.core.display.Javascript object>"
            ]
          },
          "metadata": {},
          "output_type": "display_data"
        },
        {
          "name": "stdout",
          "output_type": "stream",
          "text": [
            "Keyboard interruption in main thread... closing server.\n"
          ]
        },
        {
          "data": {
            "text/plain": []
          },
          "execution_count": 17,
          "metadata": {},
          "output_type": "execute_result"
        }
      ],
      "source": [
        "def pdf_ocr(file):\n",
        "    # Convert PDF to image\n",
        "    with tempfile.TemporaryDirectory() as path:\n",
        "        with open(file, \"rb\") as f:\n",
        "            content = f.read()\n",
        "\n",
        "        with fitz.open(stream=content, filetype=\"pdf\") as doc:\n",
        "            num_pages = len(doc)\n",
        "\n",
        "            # Extract text from the PDF\n",
        "            text = \"\"\n",
        "            for page in doc:\n",
        "                text += page.get_text()\n",
        "\n",
        "            # Perform OCR on the PDF if the extracted text is empty\n",
        "            if not text:\n",
        "                # Convert PDF pages to images\n",
        "                images = convert_from_path(content)\n",
        "                for i, img in enumerate(images):\n",
        "                    text += pytesseract.image_to_string(img, lang='ita')\n",
        "\n",
        "                # Clear the image list to free up memory\n",
        "                del images\n",
        "\n",
        "    # Call extractor_clean and format_output functions\n",
        "    ks = ('mq', 'metri quadri', 'm2')\n",
        "    tra = 'it5/it5-base-question-answering'\n",
        "    quest = \"Quanti metri quadri misura la superficie?\"\n",
        "    totalK = ['totale', 'complessivo', 'complessiva']\n",
        "\n",
        "    extracted_values = extractor_clean(text=text, k_words=ks, transformer=tra, question=quest, total_kwords=totalK, return_text=True)\n",
        "    values_output = extracted_values[0][0]  \n",
        "    total_output = extracted_values[0][1]\n",
        "    text_output = extracted_values[2]\n",
        "\n",
        "    return values_output, total_output, text_output\n",
        "\n",
        "\n",
        "pdf_input = gr.inputs.File(label=\"PDF File\")\n",
        "values_output = gr.outputs.Textbox(label=\"Mq. Values\")\n",
        "total_output = gr.outputs.Textbox(label=\"Total\")\n",
        "text_output = gr.outputs.Textbox(label=\"Ref. Text\")\n",
        "iface = gr.Interface(fn=ocr_interface, inputs=pdf_input, title=\"PDF MQ EXTRACTOR\", outputs=[values_output, total_output, text_output], preprocess=format_output)\n",
        "iface.launch(debug = True)\n"
      ]
    },
    {
      "cell_type": "code",
      "execution_count": null,
      "metadata": {
        "id": "pgK0uHGcO6zF"
      },
      "outputs": [],
      "source": []
    },
    {
      "cell_type": "code",
      "execution_count": null,
      "metadata": {
        "id": "OixnOahbO6w9"
      },
      "outputs": [],
      "source": []
    },
    {
      "cell_type": "code",
      "execution_count": null,
      "metadata": {
        "id": "Lw92mrpeO6ur"
      },
      "outputs": [],
      "source": []
    },
    {
      "cell_type": "code",
      "execution_count": null,
      "metadata": {
        "id": "TTTiWQzHO6sg"
      },
      "outputs": [],
      "source": []
    },
    {
      "cell_type": "code",
      "execution_count": null,
      "metadata": {
        "id": "KXD8id6JO6PS"
      },
      "outputs": [],
      "source": []
    },
    {
      "cell_type": "code",
      "execution_count": null,
      "metadata": {
        "colab": {
          "base_uri": "https://localhost:8080/",
          "height": 896
        },
        "id": "pRlQkQlLMrt8",
        "outputId": "849db85d-4639-466f-8518-ad1b1941a990"
      },
      "outputs": [
        {
          "name": "stderr",
          "output_type": "stream",
          "text": [
            "/usr/local/lib/python3.10/dist-packages/gradio/inputs.py:349: UserWarning: Usage of gradio.inputs is deprecated, and will not be supported in the future, please import your components from gradio.components\n",
            "  warnings.warn(\n",
            "/usr/local/lib/python3.10/dist-packages/gradio/inputs.py:352: UserWarning: `optional` parameter is deprecated, and it has no effect\n",
            "  super().__init__(\n",
            "/usr/local/lib/python3.10/dist-packages/gradio/inputs.py:352: UserWarning: `keep_filename` parameter is deprecated, and it has no effect\n",
            "  super().__init__(\n",
            "/usr/local/lib/python3.10/dist-packages/gradio/inputs.py:219: UserWarning: Usage of gradio.inputs is deprecated, and will not be supported in the future, please import your component from gradio.components\n",
            "  warnings.warn(\n",
            "/usr/local/lib/python3.10/dist-packages/gradio/inputs.py:222: UserWarning: `optional` parameter is deprecated, and it has no effect\n",
            "  super().__init__(\n",
            "/usr/local/lib/python3.10/dist-packages/gradio/outputs.py:22: UserWarning: Usage of gradio.outputs is deprecated, and will not be supported in the future, please import your components from gradio.components\n",
            "  warnings.warn(\n",
            "<ipython-input-18-0ad0cf5fc629>:50: UserWarning: You have unused kwarg parameters in Interface, please remove them: {'preprocess': <function format_output at 0x7fa48836e5f0>}\n",
            "  iface = gr.Interface(fn=ocr_interface, inputs=[pdf_input, model_input, question_input], title=\"PDF MQ EXTRACTOR\", outputs=[values_output, total_output, text_output], preprocess=format_output)\n"
          ]
        },
        {
          "name": "stdout",
          "output_type": "stream",
          "text": [
            "Colab notebook detected. This cell will run indefinitely so that you can see errors and logs. To turn off, set debug=False in launch().\n",
            "Note: opening Chrome Inspector may crash demo inside Colab notebooks.\n",
            "\n",
            "To create a public link, set `share=True` in `launch()`.\n"
          ]
        },
        {
          "data": {
            "application/javascript": "(async (port, path, width, height, cache, element) => {\n                        if (!google.colab.kernel.accessAllowed && !cache) {\n                            return;\n                        }\n                        element.appendChild(document.createTextNode(''));\n                        const url = await google.colab.kernel.proxyPort(port, {cache});\n\n                        const external_link = document.createElement('div');\n                        external_link.innerHTML = `\n                            <div style=\"font-family: monospace; margin-bottom: 0.5rem\">\n                                Running on <a href=${new URL(path, url).toString()} target=\"_blank\">\n                                    https://localhost:${port}${path}\n                                </a>\n                            </div>\n                        `;\n                        element.appendChild(external_link);\n\n                        const iframe = document.createElement('iframe');\n                        iframe.src = new URL(path, url).toString();\n                        iframe.height = height;\n                        iframe.allow = \"autoplay; camera; microphone; clipboard-read; clipboard-write;\"\n                        iframe.width = width;\n                        iframe.style.border = 0;\n                        element.appendChild(iframe);\n                    })(7860, \"/\", \"100%\", 500, false, window.element)",
            "text/plain": [
              "<IPython.core.display.Javascript object>"
            ]
          },
          "metadata": {},
          "output_type": "display_data"
        },
        {
          "name": "stdout",
          "output_type": "stream",
          "text": [
            "Keyboard interruption in main thread... closing server.\n"
          ]
        },
        {
          "data": {
            "text/plain": []
          },
          "execution_count": 18,
          "metadata": {},
          "output_type": "execute_result"
        }
      ],
      "source": [
        "def pdf_ocr(file, model_t, question):\n",
        "    # Convert PDF to image\n",
        "    with tempfile.TemporaryDirectory() as path:\n",
        "        with open(file, \"rb\") as f:\n",
        "            content = f.read()\n",
        "\n",
        "        with fitz.open(stream=content, filetype=\"pdf\") as doc:\n",
        "            num_pages = len(doc)\n",
        "\n",
        "            # Extract text from the PDF\n",
        "            text = \"\"\n",
        "            for page in doc:\n",
        "                text += page.get_text()\n",
        "\n",
        "            # Perform OCR on the PDF if the extracted text is empty\n",
        "            if not text:\n",
        "                # Convert PDF pages to images\n",
        "                images = convert_from_path(content)\n",
        "                for i, img in enumerate(images):\n",
        "                    text += pytesseract.image_to_string(img, lang='ita')\n",
        "\n",
        "                # Clear the image list to free up memory\n",
        "                del images\n",
        "\n",
        "    # Call extractor_clean and format_output functions\n",
        "    ks = ('mq', 'metri quadri', 'm2')\n",
        "    quest = \"Quanti metri quadri misura la superficie?\"\n",
        "    totalK = ['totale', 'complessivo', 'complessiva']\n",
        "\n",
        "    extracted_values = extractor_clean(text=text, k_words=ks, transformer=model_t, question=question, total_kwords=totalK, return_text=True)\n",
        "    values_output = extracted_values[0][0]  \n",
        "    total_output = extracted_values[0][1]\n",
        "    text_output = extracted_values[2]\n",
        "\n",
        "    return values_output, total_output, text_output\n",
        "\n",
        "\n",
        "\n",
        "def ocr_interface(pdf_file, model_t, question):\n",
        "    # Call the pdf_ocr function\n",
        "    values, total, text = pdf_ocr(pdf_file.name, model_t, question)\n",
        "    return values, total, text\n",
        "\n",
        "pdf_input = gr.inputs.File(label=\"PDF File\")\n",
        "model_input = gr.inputs.Dropdown(['it5/it5-base-question-answering', 'it5/it5-small-question-answering'], label = 'Select model')\n",
        "question_input = gr.inputs.Dropdown([\"Quanto misura l'immobile?\"], label = 'Question')\n",
        "values_output = gr.outputs.Textbox(label=\"Area Values\")\n",
        "total_output = gr.outputs.Textbox(label=\"Total\")\n",
        "text_output = gr.outputs.Textbox(label=\"Ref. Text\")\n",
        "iface = gr.Interface(fn=ocr_interface, inputs=[pdf_input, model_input, question_input], title=\"PDF MQ EXTRACTOR\", outputs=[values_output, total_output, text_output], preprocess=format_output)\n",
        "iface.launch(debug = True)\n"
      ]
    },
    {
      "cell_type": "code",
      "execution_count": null,
      "metadata": {
        "colab": {
          "base_uri": "https://localhost:8080/",
          "height": 861
        },
        "id": "8xVt5HLVTXZB",
        "outputId": "96e928c0-8d87-4fee-eeb7-f78f0cdf6d86"
      },
      "outputs": [
        {
          "name": "stderr",
          "output_type": "stream",
          "text": [
            "/usr/local/lib/python3.10/dist-packages/gradio/inputs.py:349: UserWarning: Usage of gradio.inputs is deprecated, and will not be supported in the future, please import your components from gradio.components\n",
            "  warnings.warn(\n",
            "/usr/local/lib/python3.10/dist-packages/gradio/inputs.py:352: UserWarning: `optional` parameter is deprecated, and it has no effect\n",
            "  super().__init__(\n",
            "/usr/local/lib/python3.10/dist-packages/gradio/inputs.py:352: UserWarning: `keep_filename` parameter is deprecated, and it has no effect\n",
            "  super().__init__(\n",
            "/usr/local/lib/python3.10/dist-packages/gradio/inputs.py:219: UserWarning: Usage of gradio.inputs is deprecated, and will not be supported in the future, please import your component from gradio.components\n",
            "  warnings.warn(\n",
            "/usr/local/lib/python3.10/dist-packages/gradio/inputs.py:222: UserWarning: `optional` parameter is deprecated, and it has no effect\n",
            "  super().__init__(\n",
            "/usr/local/lib/python3.10/dist-packages/gradio/outputs.py:22: UserWarning: Usage of gradio.outputs is deprecated, and will not be supported in the future, please import your components from gradio.components\n",
            "  warnings.warn(\n"
          ]
        },
        {
          "name": "stdout",
          "output_type": "stream",
          "text": [
            "Colab notebook detected. This cell will run indefinitely so that you can see errors and logs. To turn off, set debug=False in launch().\n",
            "Note: opening Chrome Inspector may crash demo inside Colab notebooks.\n",
            "\n",
            "To create a public link, set `share=True` in `launch()`.\n"
          ]
        },
        {
          "data": {
            "application/javascript": "(async (port, path, width, height, cache, element) => {\n                        if (!google.colab.kernel.accessAllowed && !cache) {\n                            return;\n                        }\n                        element.appendChild(document.createTextNode(''));\n                        const url = await google.colab.kernel.proxyPort(port, {cache});\n\n                        const external_link = document.createElement('div');\n                        external_link.innerHTML = `\n                            <div style=\"font-family: monospace; margin-bottom: 0.5rem\">\n                                Running on <a href=${new URL(path, url).toString()} target=\"_blank\">\n                                    https://localhost:${port}${path}\n                                </a>\n                            </div>\n                        `;\n                        element.appendChild(external_link);\n\n                        const iframe = document.createElement('iframe');\n                        iframe.src = new URL(path, url).toString();\n                        iframe.height = height;\n                        iframe.allow = \"autoplay; camera; microphone; clipboard-read; clipboard-write;\"\n                        iframe.width = width;\n                        iframe.style.border = 0;\n                        element.appendChild(iframe);\n                    })(7864, \"/\", \"100%\", 500, false, window.element)",
            "text/plain": [
              "<IPython.core.display.Javascript object>"
            ]
          },
          "metadata": {},
          "output_type": "display_data"
        },
        {
          "name": "stdout",
          "output_type": "stream",
          "text": [
            "Keyboard interruption in main thread... closing server.\n"
          ]
        },
        {
          "data": {
            "text/plain": []
          },
          "execution_count": 50,
          "metadata": {},
          "output_type": "execute_result"
        }
      ],
      "source": [
        "def pdf_ocr(file, model_t, question):\n",
        "    # Convert PDF to image\n",
        "    with tempfile.TemporaryDirectory() as path:\n",
        "        with open(file, \"rb\") as f:\n",
        "            content = f.read()\n",
        "\n",
        "        with fitz.open(stream=content, filetype=\"pdf\") as doc:\n",
        "            num_pages = len(doc)\n",
        "\n",
        "            # Extract text from the PDF\n",
        "            text = \"\"\n",
        "            for page in doc:\n",
        "                text += page.get_text()\n",
        "\n",
        "            # Perform OCR on the PDF if the extracted text is empty\n",
        "            if not text:\n",
        "                # Convert PDF pages to images\n",
        "                images = convert_from_path(content)\n",
        "                for i, img in enumerate(images):\n",
        "                    text += pytesseract.image_to_string(img, lang='ita')\n",
        "\n",
        "                # Clear the image list to free up memory\n",
        "                del images\n",
        "\n",
        "    ks = ('mq', 'metri quadri', 'm2')\n",
        "    quest = \"Quanti metri quadri misura la superficie?\"\n",
        "    totalK = ['totale', 'complessivo', 'complessiva']\n",
        "\n",
        "    extracted_values = extractor_clean(text=text, k_words=ks, transformer=model_t, question=question, total_kwords=totalK, return_text=True)\n",
        "    values_output = extracted_values[0][0]\n",
        "    total_output = f'{extracted_values[0][1]}  Mq'\n",
        "    text_output = extracted_values[2]\n",
        "\n",
        "    immobile_values = [f'{i + 1}. Immobile :  {value}  Mq\\n' for i, value in enumerate(values_output)]\n",
        "    immobile_values = '\\n'.join(immobile_values)\n",
        "\n",
        "    return immobile_values, total_output, text_output\n",
        "\n",
        "def ocr_interface(pdf_file, model_t, question):\n",
        "    # Call the pdf_ocr function\n",
        "    values, total, text = pdf_ocr(pdf_file.name, model_t, question)\n",
        "    return values, total, text\n",
        "\n",
        "\n",
        "\n",
        "\n",
        "pdf_input = gr.inputs.File(label=\"PDF File\")\n",
        "model_input = gr.inputs.Dropdown(['it5/it5-base-question-answering', 'it5/it5-small-question-answering'], label = 'Select model')\n",
        "question_input = gr.inputs.Dropdown([\"Quanto misura l'immobile?\"], label = 'Question')\n",
        "values_output = gr.outputs.Textbox(label=\"Area Values\")\n",
        "total_output = gr.outputs.Textbox(label=\"Total\")\n",
        "text_output = gr.outputs.Textbox(label=\"Ref. Text\")\n",
        "iface = gr.Interface(fn=ocr_interface, inputs=[pdf_input, model_input, question_input], title=\"PDF MQ EXTRACTOR\", outputs=[values_output, total_output, text_output])\n",
        "iface.launch(debug = True)\n"
      ]
    },
    {
      "cell_type": "code",
      "execution_count": null,
      "metadata": {
        "id": "6ODP6YEkJZyZ"
      },
      "outputs": [],
      "source": [
        "def pdf_ocr(file):\n",
        "    # Convert PDF to image\n",
        "    with tempfile.TemporaryDirectory() as path:\n",
        "        images = convert_from_path(file, output_folder=path)\n",
        "    # OCR the image\n",
        "    text = \"\"\n",
        "    for i, image in enumerate(images):\n",
        "        with tempfile.NamedTemporaryFile(delete=False, suffix=\".png\") as temp:\n",
        "            image.save(temp.name, \"PNG\")\n",
        "            text += pytesseract.image_to_string(temp.name)\n",
        "            os.remove(temp.name)\n",
        "    return text.strip()"
      ]
    },
    {
      "cell_type": "code",
      "execution_count": 117,
      "metadata": {
        "colab": {
          "base_uri": "https://localhost:8080/",
          "height": 650
        },
        "id": "5xsG63eUZOUX",
        "outputId": "971b3c2d-e8f7-4487-e06c-53aa459b6873"
      },
      "outputs": [
        {
          "name": "stdout",
          "output_type": "stream",
          "text": [
            "Caching examples at: '/content/gradio_cached_examples/1259'\n",
            "Colab notebook detected. This cell will run indefinitely so that you can see errors and logs. To turn off, set debug=False in launch().\n",
            "Note: opening Chrome Inspector may crash demo inside Colab notebooks.\n",
            "\n",
            "To create a public link, set `share=True` in `launch()`.\n"
          ]
        },
        {
          "data": {
            "application/javascript": "(async (port, path, width, height, cache, element) => {\n                        if (!google.colab.kernel.accessAllowed && !cache) {\n                            return;\n                        }\n                        element.appendChild(document.createTextNode(''));\n                        const url = await google.colab.kernel.proxyPort(port, {cache});\n\n                        const external_link = document.createElement('div');\n                        external_link.innerHTML = `\n                            <div style=\"font-family: monospace; margin-bottom: 0.5rem\">\n                                Running on <a href=${new URL(path, url).toString()} target=\"_blank\">\n                                    https://localhost:${port}${path}\n                                </a>\n                            </div>\n                        `;\n                        element.appendChild(external_link);\n\n                        const iframe = document.createElement('iframe');\n                        iframe.src = new URL(path, url).toString();\n                        iframe.height = height;\n                        iframe.allow = \"autoplay; camera; microphone; clipboard-read; clipboard-write;\"\n                        iframe.width = width;\n                        iframe.style.border = 0;\n                        element.appendChild(iframe);\n                    })(7864, \"/\", \"100%\", 500, false, window.element)",
            "text/plain": [
              "<IPython.core.display.Javascript object>"
            ]
          },
          "metadata": {},
          "output_type": "display_data"
        },
        {
          "name": "stdout",
          "output_type": "stream",
          "text": [
            "Keyboard interruption in main thread... closing server.\n"
          ]
        },
        {
          "data": {
            "text/plain": []
          },
          "execution_count": 117,
          "metadata": {},
          "output_type": "execute_result"
        }
      ],
      "source": [
        "def pdf_ocr(file, model_t, question):\n",
        "    # Convert PDF to image\n",
        "    with tempfile.TemporaryDirectory() as path:\n",
        "        with open(file, \"rb\") as f:\n",
        "            content = f.read()\n",
        "\n",
        "        with fitz.open(stream=content, filetype=\"pdf\") as doc:\n",
        "            num_pages = len(doc)\n",
        "\n",
        "            # Extract text from the PDF\n",
        "            text = \"\"\n",
        "            for page in doc:\n",
        "                text += page.get_text()\n",
        "\n",
        "            # Perform OCR on the PDF if the extracted text is empty\n",
        "            if not text:\n",
        "                # Convert PDF pages to images\n",
        "                images = convert_from_bytes(content)\n",
        "                for i, img in enumerate(images):\n",
        "                    text += pytesseract.image_to_string(img, lang='ita')\n",
        "\n",
        "                # Clear the image list to free up memory\n",
        "                del images\n",
        "\n",
        "    ks = ('mq', 'Mq', 'MQ', 'metri quadri', 'm2')\n",
        "    quest = \"Quanti metri quadri misura la superficie?\"\n",
        "    totalK = ['totale', 'complessivo', 'complessiva']\n",
        "\n",
        "    extracted_values = extractor_clean(text=text, k_words=ks, transformer=model_t, question=question, total_kwords=totalK, return_text=True)\n",
        "    values_output = extracted_values[0][0]\n",
        "    total_output = f'{extracted_values[0][1]}  Mq'\n",
        "    text_output = extracted_values[2]\n",
        "\n",
        "    immobile_values = [f'{i + 1}. Immobile :  {value}  Mq\\n' for i, value in enumerate(values_output)]\n",
        "    immobile_values = '\\n'.join(immobile_values)\n",
        "\n",
        "    return immobile_values, total_output, text_output\n",
        "\n",
        "def ocr_interface(pdf_file, model_t='it5/it5-base-question-answering', question=\"Quanti metri quadri misura l'immobile?\"):\n",
        "    # Call the pdf_ocr function\n",
        "    values, total, text = pdf_ocr(pdf_file.name, model_t, question)\n",
        "    return values, total, text\n",
        "\n",
        "\n",
        "\n",
        "\n",
        "\n",
        "\n",
        "with gr.Blocks(theme=gr.themes.Soft()) as demo:\n",
        "\n",
        "    gr.Markdown(\n",
        "    '''\n",
        "    # PDF Mq Extractor\n",
        "    ''')\n",
        "    with gr.Tab(\"Extractor\"):\n",
        "      with gr.Row():\n",
        "        pdf_input = gr.components.File(label=\"PDF File\")\n",
        "     \n",
        "      with gr.Row():\n",
        "          model_input = gr.components.Dropdown(['it5/it5-base-question-answering', 'it5/it5-small-question-answering'],\n",
        "                                               value= 'it5/it5-base-question-answering', label = 'Select model')\n",
        "          question_input = gr.components.Dropdown([\"Quanti metri quadri misura l'immobile?\"],\n",
        "                                                  value = \"Quanti metri quadri misura l'immobile?\", label = 'Question')\n",
        "      \n",
        "      with gr.Column():\n",
        "          gr.Markdown(\n",
        "          '''\n",
        "          # Output values\n",
        "          Values extracted from the pdf document\n",
        "          ''')\n",
        "      \n",
        "      with gr.Row():\n",
        "\n",
        "          text_output = gr.components.Textbox(label=\"Ref. Text\")\n",
        "          values_output = gr.components.Textbox(label=\"Area Values\")\n",
        "          total_output = gr.components.Textbox(label=\"Total\")\n",
        "          \n",
        "      with gr.Row():\n",
        "          extract_button = gr.Button(\"Extract\")\n",
        "\n",
        "\n",
        "    extract_button.click(fn = ocr_interface,\n",
        "                         inputs=[pdf_input, model_input, question_input], outputs=[values_output, total_output, text_output])\n",
        "    gr.Examples(['Example2.pdf'], inputs = pdf_input, cache_examples = True, fn = ocr_interface,\n",
        "                outputs = [values_output, total_output, text_output])\n",
        "\n",
        "demo.launch(debug = True)\n"
      ]
    },
    {
      "cell_type": "code",
      "execution_count": 67,
      "metadata": {
        "id": "jo-AU_O0KbOY"
      },
      "outputs": [],
      "source": []
    },
    {
      "cell_type": "code",
      "execution_count": null,
      "metadata": {
        "id": "GzOwVg1cKbM6"
      },
      "outputs": [],
      "source": []
    },
    {
      "cell_type": "code",
      "execution_count": null,
      "metadata": {
        "id": "FaCIF-a-KbDs"
      },
      "outputs": [],
      "source": []
    }
  ],
  "metadata": {
    "colab": {
      "provenance": []
    },
    "kernelspec": {
      "display_name": "Python 3",
      "name": "python3"
    },
    "language_info": {
      "name": "python"
    }
  },
  "nbformat": 4,
  "nbformat_minor": 0
}
