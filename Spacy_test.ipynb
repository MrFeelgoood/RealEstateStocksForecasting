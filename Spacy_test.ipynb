{
  "nbformat": 4,
  "nbformat_minor": 0,
  "metadata": {
    "colab": {
      "provenance": []
    },
    "kernelspec": {
      "name": "python3",
      "display_name": "Python 3"
    },
    "language_info": {
      "name": "python"
    }
  },
  "cells": [
    {
      "cell_type": "code",
      "source": [
        "!pip install spacy\n",
        "!python -m spacy download it_core_news_lg"
      ],
      "metadata": {
        "colab": {
          "base_uri": "https://localhost:8080/"
        },
        "id": "516BY_H3gfzM",
        "outputId": "6b6a10e2-4688-4f9a-ea38-b5add20d5671"
      },
      "execution_count": null,
      "outputs": [
        {
          "output_type": "stream",
          "name": "stdout",
          "text": [
            "Looking in indexes: https://pypi.org/simple, https://us-python.pkg.dev/colab-wheels/public/simple/\n",
            "Requirement already satisfied: spacy in /usr/local/lib/python3.9/dist-packages (3.4.4)\n",
            "Requirement already satisfied: preshed<3.1.0,>=3.0.2 in /usr/local/lib/python3.9/dist-packages (from spacy) (3.0.8)\n",
            "Requirement already satisfied: pathy>=0.3.5 in /usr/local/lib/python3.9/dist-packages (from spacy) (0.10.1)\n",
            "Requirement already satisfied: spacy-loggers<2.0.0,>=1.0.0 in /usr/local/lib/python3.9/dist-packages (from spacy) (1.0.4)\n",
            "Requirement already satisfied: numpy>=1.15.0 in /usr/local/lib/python3.9/dist-packages (from spacy) (1.22.4)\n",
            "Requirement already satisfied: spacy-legacy<3.1.0,>=3.0.10 in /usr/local/lib/python3.9/dist-packages (from spacy) (3.0.12)\n",
            "Requirement already satisfied: srsly<3.0.0,>=2.4.3 in /usr/local/lib/python3.9/dist-packages (from spacy) (2.4.6)\n",
            "Requirement already satisfied: thinc<8.2.0,>=8.1.0 in /usr/local/lib/python3.9/dist-packages (from spacy) (8.1.8)\n",
            "Requirement already satisfied: requests<3.0.0,>=2.13.0 in /usr/local/lib/python3.9/dist-packages (from spacy) (2.25.1)\n",
            "Requirement already satisfied: setuptools in /usr/local/lib/python3.9/dist-packages (from spacy) (57.4.0)\n",
            "Requirement already satisfied: murmurhash<1.1.0,>=0.28.0 in /usr/local/lib/python3.9/dist-packages (from spacy) (1.0.9)\n",
            "Requirement already satisfied: langcodes<4.0.0,>=3.2.0 in /usr/local/lib/python3.9/dist-packages (from spacy) (3.3.0)\n",
            "Requirement already satisfied: jinja2 in /usr/local/lib/python3.9/dist-packages (from spacy) (3.1.2)\n",
            "Requirement already satisfied: smart-open<7.0.0,>=5.2.1 in /usr/local/lib/python3.9/dist-packages (from spacy) (6.3.0)\n",
            "Requirement already satisfied: catalogue<2.1.0,>=2.0.6 in /usr/local/lib/python3.9/dist-packages (from spacy) (2.0.8)\n",
            "Requirement already satisfied: cymem<2.1.0,>=2.0.2 in /usr/local/lib/python3.9/dist-packages (from spacy) (2.0.7)\n",
            "Requirement already satisfied: typer<0.8.0,>=0.3.0 in /usr/local/lib/python3.9/dist-packages (from spacy) (0.7.0)\n",
            "Requirement already satisfied: tqdm<5.0.0,>=4.38.0 in /usr/local/lib/python3.9/dist-packages (from spacy) (4.65.0)\n",
            "Requirement already satisfied: wasabi<1.1.0,>=0.9.1 in /usr/local/lib/python3.9/dist-packages (from spacy) (0.10.1)\n",
            "Requirement already satisfied: packaging>=20.0 in /usr/local/lib/python3.9/dist-packages (from spacy) (23.0)\n",
            "Requirement already satisfied: pydantic!=1.8,!=1.8.1,<1.11.0,>=1.7.4 in /usr/local/lib/python3.9/dist-packages (from spacy) (1.10.5)\n",
            "Requirement already satisfied: typing-extensions>=4.2.0 in /usr/local/lib/python3.9/dist-packages (from pydantic!=1.8,!=1.8.1,<1.11.0,>=1.7.4->spacy) (4.5.0)\n",
            "Requirement already satisfied: chardet<5,>=3.0.2 in /usr/local/lib/python3.9/dist-packages (from requests<3.0.0,>=2.13.0->spacy) (4.0.0)\n",
            "Requirement already satisfied: urllib3<1.27,>=1.21.1 in /usr/local/lib/python3.9/dist-packages (from requests<3.0.0,>=2.13.0->spacy) (1.26.14)\n",
            "Requirement already satisfied: idna<3,>=2.5 in /usr/local/lib/python3.9/dist-packages (from requests<3.0.0,>=2.13.0->spacy) (2.10)\n",
            "Requirement already satisfied: certifi>=2017.4.17 in /usr/local/lib/python3.9/dist-packages (from requests<3.0.0,>=2.13.0->spacy) (2022.12.7)\n",
            "Requirement already satisfied: confection<1.0.0,>=0.0.1 in /usr/local/lib/python3.9/dist-packages (from thinc<8.2.0,>=8.1.0->spacy) (0.0.4)\n",
            "Requirement already satisfied: blis<0.8.0,>=0.7.8 in /usr/local/lib/python3.9/dist-packages (from thinc<8.2.0,>=8.1.0->spacy) (0.7.9)\n",
            "Requirement already satisfied: click<9.0.0,>=7.1.1 in /usr/local/lib/python3.9/dist-packages (from typer<0.8.0,>=0.3.0->spacy) (8.1.3)\n",
            "Requirement already satisfied: MarkupSafe>=2.0 in /usr/local/lib/python3.9/dist-packages (from jinja2->spacy) (2.1.2)\n",
            "/usr/local/lib/python3.9/dist-packages/torch/cuda/__init__.py:497: UserWarning: Can't initialize NVML\n",
            "  warnings.warn(\"Can't initialize NVML\")\n",
            "2023-03-12 17:52:11.284521: W tensorflow/compiler/xla/stream_executor/platform/default/dso_loader.cc:64] Could not load dynamic library 'libnvinfer.so.7'; dlerror: libnvinfer.so.7: cannot open shared object file: No such file or directory; LD_LIBRARY_PATH: /usr/local/nvidia/lib:/usr/local/nvidia/lib64\n",
            "2023-03-12 17:52:11.284643: W tensorflow/compiler/xla/stream_executor/platform/default/dso_loader.cc:64] Could not load dynamic library 'libnvinfer_plugin.so.7'; dlerror: libnvinfer_plugin.so.7: cannot open shared object file: No such file or directory; LD_LIBRARY_PATH: /usr/local/nvidia/lib:/usr/local/nvidia/lib64\n",
            "2023-03-12 17:52:11.284668: W tensorflow/compiler/tf2tensorrt/utils/py_utils.cc:38] TF-TRT Warning: Cannot dlopen some TensorRT libraries. If you would like to use Nvidia GPU with TensorRT, please make sure the missing libraries mentioned above are installed properly.\n",
            "2023-03-12 17:52:12.990405: E tensorflow/compiler/xla/stream_executor/cuda/cuda_driver.cc:267] failed call to cuInit: CUDA_ERROR_NO_DEVICE: no CUDA-capable device is detected\n",
            "Looking in indexes: https://pypi.org/simple, https://us-python.pkg.dev/colab-wheels/public/simple/\n",
            "Collecting it-core-news-lg==3.4.0\n",
            "  Downloading https://github.com/explosion/spacy-models/releases/download/it_core_news_lg-3.4.0/it_core_news_lg-3.4.0-py3-none-any.whl (567.9 MB)\n",
            "\u001b[2K     \u001b[90m━━━━━━━━━━━━━━━━━━━━━━━━━━━━━━━━━━━━━━━\u001b[0m \u001b[32m567.9/567.9 MB\u001b[0m \u001b[31m2.6 MB/s\u001b[0m eta \u001b[36m0:00:00\u001b[0m\n",
            "\u001b[?25hRequirement already satisfied: spacy<3.5.0,>=3.4.0 in /usr/local/lib/python3.9/dist-packages (from it-core-news-lg==3.4.0) (3.4.4)\n",
            "Requirement already satisfied: murmurhash<1.1.0,>=0.28.0 in /usr/local/lib/python3.9/dist-packages (from spacy<3.5.0,>=3.4.0->it-core-news-lg==3.4.0) (1.0.9)\n",
            "Requirement already satisfied: tqdm<5.0.0,>=4.38.0 in /usr/local/lib/python3.9/dist-packages (from spacy<3.5.0,>=3.4.0->it-core-news-lg==3.4.0) (4.65.0)\n",
            "Requirement already satisfied: thinc<8.2.0,>=8.1.0 in /usr/local/lib/python3.9/dist-packages (from spacy<3.5.0,>=3.4.0->it-core-news-lg==3.4.0) (8.1.8)\n",
            "Requirement already satisfied: spacy-loggers<2.0.0,>=1.0.0 in /usr/local/lib/python3.9/dist-packages (from spacy<3.5.0,>=3.4.0->it-core-news-lg==3.4.0) (1.0.4)\n",
            "Requirement already satisfied: packaging>=20.0 in /usr/local/lib/python3.9/dist-packages (from spacy<3.5.0,>=3.4.0->it-core-news-lg==3.4.0) (23.0)\n",
            "Requirement already satisfied: pydantic!=1.8,!=1.8.1,<1.11.0,>=1.7.4 in /usr/local/lib/python3.9/dist-packages (from spacy<3.5.0,>=3.4.0->it-core-news-lg==3.4.0) (1.10.5)\n",
            "Requirement already satisfied: srsly<3.0.0,>=2.4.3 in /usr/local/lib/python3.9/dist-packages (from spacy<3.5.0,>=3.4.0->it-core-news-lg==3.4.0) (2.4.6)\n",
            "Requirement already satisfied: typer<0.8.0,>=0.3.0 in /usr/local/lib/python3.9/dist-packages (from spacy<3.5.0,>=3.4.0->it-core-news-lg==3.4.0) (0.7.0)\n",
            "Requirement already satisfied: requests<3.0.0,>=2.13.0 in /usr/local/lib/python3.9/dist-packages (from spacy<3.5.0,>=3.4.0->it-core-news-lg==3.4.0) (2.25.1)\n",
            "Requirement already satisfied: langcodes<4.0.0,>=3.2.0 in /usr/local/lib/python3.9/dist-packages (from spacy<3.5.0,>=3.4.0->it-core-news-lg==3.4.0) (3.3.0)\n",
            "Requirement already satisfied: spacy-legacy<3.1.0,>=3.0.10 in /usr/local/lib/python3.9/dist-packages (from spacy<3.5.0,>=3.4.0->it-core-news-lg==3.4.0) (3.0.12)\n",
            "Requirement already satisfied: setuptools in /usr/local/lib/python3.9/dist-packages (from spacy<3.5.0,>=3.4.0->it-core-news-lg==3.4.0) (57.4.0)\n",
            "Requirement already satisfied: jinja2 in /usr/local/lib/python3.9/dist-packages (from spacy<3.5.0,>=3.4.0->it-core-news-lg==3.4.0) (3.1.2)\n",
            "Requirement already satisfied: catalogue<2.1.0,>=2.0.6 in /usr/local/lib/python3.9/dist-packages (from spacy<3.5.0,>=3.4.0->it-core-news-lg==3.4.0) (2.0.8)\n",
            "Requirement already satisfied: wasabi<1.1.0,>=0.9.1 in /usr/local/lib/python3.9/dist-packages (from spacy<3.5.0,>=3.4.0->it-core-news-lg==3.4.0) (0.10.1)\n",
            "Requirement already satisfied: preshed<3.1.0,>=3.0.2 in /usr/local/lib/python3.9/dist-packages (from spacy<3.5.0,>=3.4.0->it-core-news-lg==3.4.0) (3.0.8)\n",
            "Requirement already satisfied: numpy>=1.15.0 in /usr/local/lib/python3.9/dist-packages (from spacy<3.5.0,>=3.4.0->it-core-news-lg==3.4.0) (1.22.4)\n",
            "Requirement already satisfied: pathy>=0.3.5 in /usr/local/lib/python3.9/dist-packages (from spacy<3.5.0,>=3.4.0->it-core-news-lg==3.4.0) (0.10.1)\n",
            "Requirement already satisfied: cymem<2.1.0,>=2.0.2 in /usr/local/lib/python3.9/dist-packages (from spacy<3.5.0,>=3.4.0->it-core-news-lg==3.4.0) (2.0.7)\n",
            "Requirement already satisfied: smart-open<7.0.0,>=5.2.1 in /usr/local/lib/python3.9/dist-packages (from spacy<3.5.0,>=3.4.0->it-core-news-lg==3.4.0) (6.3.0)\n",
            "Requirement already satisfied: typing-extensions>=4.2.0 in /usr/local/lib/python3.9/dist-packages (from pydantic!=1.8,!=1.8.1,<1.11.0,>=1.7.4->spacy<3.5.0,>=3.4.0->it-core-news-lg==3.4.0) (4.5.0)\n",
            "Requirement already satisfied: chardet<5,>=3.0.2 in /usr/local/lib/python3.9/dist-packages (from requests<3.0.0,>=2.13.0->spacy<3.5.0,>=3.4.0->it-core-news-lg==3.4.0) (4.0.0)\n",
            "Requirement already satisfied: idna<3,>=2.5 in /usr/local/lib/python3.9/dist-packages (from requests<3.0.0,>=2.13.0->spacy<3.5.0,>=3.4.0->it-core-news-lg==3.4.0) (2.10)\n",
            "Requirement already satisfied: urllib3<1.27,>=1.21.1 in /usr/local/lib/python3.9/dist-packages (from requests<3.0.0,>=2.13.0->spacy<3.5.0,>=3.4.0->it-core-news-lg==3.4.0) (1.26.14)\n",
            "Requirement already satisfied: certifi>=2017.4.17 in /usr/local/lib/python3.9/dist-packages (from requests<3.0.0,>=2.13.0->spacy<3.5.0,>=3.4.0->it-core-news-lg==3.4.0) (2022.12.7)\n",
            "Requirement already satisfied: confection<1.0.0,>=0.0.1 in /usr/local/lib/python3.9/dist-packages (from thinc<8.2.0,>=8.1.0->spacy<3.5.0,>=3.4.0->it-core-news-lg==3.4.0) (0.0.4)\n",
            "Requirement already satisfied: blis<0.8.0,>=0.7.8 in /usr/local/lib/python3.9/dist-packages (from thinc<8.2.0,>=8.1.0->spacy<3.5.0,>=3.4.0->it-core-news-lg==3.4.0) (0.7.9)\n",
            "Requirement already satisfied: click<9.0.0,>=7.1.1 in /usr/local/lib/python3.9/dist-packages (from typer<0.8.0,>=0.3.0->spacy<3.5.0,>=3.4.0->it-core-news-lg==3.4.0) (8.1.3)\n",
            "Requirement already satisfied: MarkupSafe>=2.0 in /usr/local/lib/python3.9/dist-packages (from jinja2->spacy<3.5.0,>=3.4.0->it-core-news-lg==3.4.0) (2.1.2)\n",
            "\u001b[38;5;2m✔ Download and installation successful\u001b[0m\n",
            "You can now load the package via spacy.load('it_core_news_lg')\n"
          ]
        }
      ]
    },
    {
      "cell_type": "code",
      "source": [
        "import re\n",
        "import spacy"
      ],
      "metadata": {
        "id": "oEzvbt_X9M7V"
      },
      "execution_count": null,
      "outputs": []
    },
    {
      "cell_type": "code",
      "source": [
        "text = '''Piazza Ener Bettica n. 26, e precisamente:  - Negozio sito al piano terra dell’edificio E, con annessi bagno, antibagno e ripostiglio per una  superficie di mq. 44 circa a confine con  Piazza Ener Bettica, negozio sub. 4, viale condominiale,  salvo altri.\n",
        "Detta Porzione Immobiliare è censita al catasto Fabbricati del Comune di Roma al Foglio 1079, Part.  1305, Sub. 5, Zc. 7, Categoria C1, cl. 8, mq. 27, Piazza Ener Bettica n° 26, P.T, int. 1, rendita catastale  Euro 715,34.\n",
        "Piazza Ener Bettica n. 27/28, Via Carlo Bosio n° 117-119 e precisamente:  - Negozio sito al piano terra dell’edificio E, con annessi bagno, antibagno e ripostiglio per una  superficie di mq. 92 circa a confine con  Piazza Ener Bettica, negozio sub. 4, Via Carlo Bosio, salvo  altri.\n",
        "Detta Porzione Immobiliare è censita al catasto Fabbricati del Comune di Roma al Foglio 1079, Part.  1305, Sub. 4, Zc. 7, Categoria C1, cl. 7, mq. 92, Piazza Ener Bettica n° 26-28 Via Carlo Bosio n° 117- 119 P.T, int. 2, rendita catastale Euro 2.096,37.\n",
        "al valore d’asta di Euro 140.000 (centoquarantamila)  offerta minima Euro 105.000 (centocinquemila)    In caso di gara ex art. 573 cpc eventuali offerte in aumento non potranno essere inferiori a:  Euro 5.000 (cinquemila)  LOTTO 3    Quota pari a 1/1 del diritto di piena proprietà della porzione immobiliare sita a Roma (RM),  località ostia Lido, Via Carlo Bosio n° 109 e precisamente:  - garage sito al piano S1 dell’edificio E, distinto con l’interno 22, della superficie di mq. 16, circa a  confine con vano scale, rampa condominiale, salvo altri.\n",
        "Avviso di vendita delega telematica asincrona 2020  [Rev 25/06/2020]  3    Detta Porzione Immobiliare è censita al catasto Fabbricati del Comune di Roma al Foglio 1079, Part.  1305, Sub. 47, Zc. 7, Categoria C/6, cl. 3, mq. 16, Via Carlo Bosio n° 109, S1, int. 22, edificio “E”,  rendita catastale Euro 96,68.\n",
        "al valore d’asta di Euro 7.500 (settemilacinquecento)  offerta minima Euro 5.625 (cinquemilaseicentoventicinque)    In caso di gara ex art. 573 cpc eventuali offerte in aumento non potranno essere inferiori a:  Euro 400 (quattrocento)  LOTTO 4    Quota pari a 1/1 del diritto di piena proprietà della porzione immobiliare sita a Roma (RM),  località ostia Lido, Via Carlo Bosio n° 107 e precisamente:  - garage sito al piano S1 dell’edificio F, distinto con l’interno 22, della superficie di mq. 12, circa a  confine con vano scale, rampa condominiale, salvo altri.\n",
        "Detta Porzione Immobiliare è censita al catasto Fabbricati del Comune di Roma al Foglio 1079, Part.  1307, Sub. 47, Zc. 7, Categoria C/6, cl. 3, mq. 11, Via Carlo Bosio n° 107, P.\n",
        "al valore d’asta di Euro 5.000 (cinquemila)  offerta minima Euro 3.750 (tremilasettecentocinquanta)    In caso di gara ex art. 573 cpc eventuali offerte in aumento non potranno essere inferiori a:  Euro 300 ( trecento)  LOTTO 5    Quota pari a 1/1 del diritto di piena proprietà della porzione immobiliare sita a Roma (RM),  località ostia Lido, Via Ferdinando Acton n° 54 e precisamente:  - cantina sita al piano S1 dell’edificio C, scala “B”, della superficie di mq. 58, circa a confine con corte  condominiale su più lati, vano scale condominiale, salvo altri.'''"
      ],
      "metadata": {
        "id": "PMzA7UKDoh-2"
      },
      "execution_count": null,
      "outputs": []
    },
    {
      "cell_type": "code",
      "source": [
        "sentences = re.split(\"(?<=[.?!])\\s+(?=[A-Za-z])\", text)"
      ],
      "metadata": {
        "id": "GvyTF1NunO9h"
      },
      "execution_count": null,
      "outputs": []
    },
    {
      "cell_type": "code",
      "source": [
        "for sentence in sentences:\n",
        "  print(sentence)\n",
        "  print('------------')"
      ],
      "metadata": {
        "colab": {
          "base_uri": "https://localhost:8080/"
        },
        "id": "lIO6T9R5nSj2",
        "outputId": "e0db476f-89ef-46d6-a724-d2744e10d251"
      },
      "execution_count": null,
      "outputs": [
        {
          "output_type": "stream",
          "name": "stdout",
          "text": [
            "Piazza Ener Bettica n. 26, e precisamente:  - Negozio sito al piano terra dell’edificio E, con annessi bagno, antibagno e ripostiglio per una  superficie di mq. 44 circa a confine con  Piazza Ener Bettica, negozio sub. 4, viale condominiale,  salvo altri.\n",
            "------------\n",
            "Detta Porzione Immobiliare è censita al catasto Fabbricati del Comune di Roma al Foglio 1079, Part.  1305, Sub. 5, Zc. 7, Categoria C1, cl. 8, mq. 27, Piazza Ener Bettica n° 26, P.T, int. 1, rendita catastale  Euro 715,34.\n",
            "------------\n",
            "Piazza Ener Bettica n. 27/28, Via Carlo Bosio n° 117-119 e precisamente:  - Negozio sito al piano terra dell’edificio E, con annessi bagno, antibagno e ripostiglio per una  superficie di mq. 92 circa a confine con  Piazza Ener Bettica, negozio sub. 4, Via Carlo Bosio, salvo  altri.\n",
            "------------\n",
            "Detta Porzione Immobiliare è censita al catasto Fabbricati del Comune di Roma al Foglio 1079, Part.  1305, Sub. 4, Zc. 7, Categoria C1, cl. 7, mq. 92, Piazza Ener Bettica n° 26-28 Via Carlo Bosio n° 117- 119 P.T, int. 2, rendita catastale Euro 2.096,37.\n",
            "------------\n",
            "al valore d’asta di Euro 140.000 (centoquarantamila)  offerta minima Euro 105.000 (centocinquemila)    In caso di gara ex art. 573 cpc eventuali offerte in aumento non potranno essere inferiori a:  Euro 5.000 (cinquemila)  LOTTO 3    Quota pari a 1/1 del diritto di piena proprietà della porzione immobiliare sita a Roma (RM),  località ostia Lido, Via Carlo Bosio n° 109 e precisamente:  - garage sito al piano S1 dell’edificio E, distinto con l’interno 22, della superficie di mq. 16, circa a  confine con vano scale, rampa condominiale, salvo altri.\n",
            "------------\n",
            "Avviso di vendita delega telematica asincrona 2020  [Rev 25/06/2020]  3    Detta Porzione Immobiliare è censita al catasto Fabbricati del Comune di Roma al Foglio 1079, Part.  1305, Sub. 47, Zc. 7, Categoria C/6, cl. 3, mq. 16, Via Carlo Bosio n° 109, S1, int. 22, edificio “E”,  rendita catastale Euro 96,68.\n",
            "------------\n",
            "al valore d’asta di Euro 7.500 (settemilacinquecento)  offerta minima Euro 5.625 (cinquemilaseicentoventicinque)    In caso di gara ex art. 573 cpc eventuali offerte in aumento non potranno essere inferiori a:  Euro 400 (quattrocento)  LOTTO 4    Quota pari a 1/1 del diritto di piena proprietà della porzione immobiliare sita a Roma (RM),  località ostia Lido, Via Carlo Bosio n° 107 e precisamente:  - garage sito al piano S1 dell’edificio F, distinto con l’interno 22, della superficie di mq. 12, circa a  confine con vano scale, rampa condominiale, salvo altri.\n",
            "------------\n",
            "Detta Porzione Immobiliare è censita al catasto Fabbricati del Comune di Roma al Foglio 1079, Part.  1307, Sub. 47, Zc. 7, Categoria C/6, cl. 3, mq. 11, Via Carlo Bosio n° 107, P.\n",
            "------------\n",
            "al valore d’asta di Euro 5.000 (cinquemila)  offerta minima Euro 3.750 (tremilasettecentocinquanta)    In caso di gara ex art. 573 cpc eventuali offerte in aumento non potranno essere inferiori a:  Euro 300 ( trecento)  LOTTO 5    Quota pari a 1/1 del diritto di piena proprietà della porzione immobiliare sita a Roma (RM),  località ostia Lido, Via Ferdinando Acton n° 54 e precisamente:  - cantina sita al piano S1 dell’edificio C, scala “B”, della superficie di mq. 58, circa a confine con corte  condominiale su più lati, vano scale condominiale, salvo altri.\n",
            "------------\n"
          ]
        }
      ]
    },
    {
      "cell_type": "code",
      "source": [
        "import spacy\n",
        "from spacy.lang.it import Italian\n",
        "\n",
        "@Language.component('custom_tokenizer')\n",
        "def custom_tokenizer(doc):\n",
        "    # Define a custom rule to ignore colons as a sentence boundary\n",
        "    for token in doc[:-1]:\n",
        "        if (token.text == \" \"):\n",
        "            doc[token.i+1].is_sent_start = False\n",
        "    return doc\n"
      ],
      "metadata": {
        "id": "jsOVMzZucZ45"
      },
      "execution_count": null,
      "outputs": []
    },
    {
      "cell_type": "code",
      "source": [
        "def get_sentences(text, dictionary = None):\n",
        "  cl_sentences = []\n",
        "  chars_to_strip = [' ', '\\n']\n",
        "  chars_to_strip_str = ''.join(set(chars_to_strip))\n",
        "  nlp = spacy.load(\"it_core_news_lg\")  # Load the small Ita model\n",
        "  nlp.add_pipe(\"custom_tokenizer\", before=\"parser\")\n",
        "\n",
        "  nlp.tokenizer.add_special_case(\"mq.\", [{spacy.symbols.ORTH: \"mq.\", spacy.symbols.NORM: \"mq.\"}])\n",
        "  nlp.tokenizer.add_special_case(\"sub.\", [{spacy.symbols.ORTH: \"sub.\", spacy.symbols.NORM: \"sub.\"}])\n",
        "  nlp.tokenizer.add_special_case(\"Sub.\", [{spacy.symbols.ORTH: \"Sub.\", spacy.symbols.NORM: \"Sub.\"}])\n",
        "  nlp.tokenizer.add_special_case(\"int.\", [{spacy.symbols.ORTH: \"int.\", spacy.symbols.NORM: \"int.\"}])\n",
        "  nlp.tokenizer.add_special_case(\"cl.\", [{spacy.symbols.ORTH: \"cl.\", spacy.symbols.NORM: \"cl.\"}])\n",
        "  nlp.tokenizer.add_special_case(\"Part.\", [{spacy.symbols.ORTH: \"Part.\", spacy.symbols.NORM: \"Part.\"}])\n",
        "  nlp.tokenizer.add_special_case(\"Zc.\", [{spacy.symbols.ORTH: \"Zc.\", spacy.symbols.NORM: \"Zc.\"}])\n",
        "\n",
        "\n",
        "  doc = nlp(text)  # Process the text with spaCy\n",
        "  sentences = list(doc.sents)  # Split the text into sentences\n",
        "  for sentence in sentences:\n",
        "    sent = sentence.text\n",
        "    cl_sentence = ' '.join(filter(None, sent.lstrip(chars_to_strip_str).rstrip(chars_to_strip_str).split(' ')))\n",
        "    if cl_sentence!= '':\n",
        "      cl_sentences.append(cl_sentence)\n",
        "      print(cl_sentence)\n",
        "      print(\"---------------\")\n",
        "  return cl_sentences\n",
        "    "
      ],
      "metadata": {
        "id": "-Hst-I0cr2wH"
      },
      "execution_count": null,
      "outputs": []
    },
    {
      "cell_type": "code",
      "source": [
        "c = get_sentences(text)"
      ],
      "metadata": {
        "colab": {
          "base_uri": "https://localhost:8080/"
        },
        "id": "Ye1Clcvnojkv",
        "outputId": "73e1f00d-25bb-4f9a-c2fd-5191a50ff72e"
      },
      "execution_count": null,
      "outputs": [
        {
          "output_type": "stream",
          "name": "stdout",
          "text": [
            "Piazza Ener Bettica n. 26, e precisamente: - Negozio sito al piano terra dell’edificio E, con annessi bagno, antibagno e ripostiglio per una superficie di mq. 44 circa a confine con Piazza Ener Bettica, negozio sub. 4, viale condominiale, salvo altri.\n",
            "---------------\n",
            "Detta Porzione Immobiliare è censita al catasto Fabbricati del Comune di Roma al Foglio 1079, Part. 1305, Sub. 5, Zc. 7, Categoria C1, cl. 8, mq. 27, Piazza Ener Bettica n° 26, P.T, int. 1, rendita catastale Euro 715,34.\n",
            "---------------\n",
            "Piazza Ener Bettica n. 27/28, Via Carlo Bosio n° 117-119 e precisamente: - Negozio sito al piano terra dell’edificio E, con annessi bagno, antibagno e ripostiglio per una superficie di mq. 92 circa a confine con Piazza Ener Bettica, negozio sub. 4, Via Carlo Bosio, salvo altri.\n",
            "---------------\n",
            "Detta Porzione Immobiliare è censita al catasto Fabbricati del Comune di Roma al Foglio 1079, Part. 1305, Sub. 4, Zc. 7, Categoria C1, cl. 7, mq. 92, Piazza Ener Bettica n° 26-28 Via Carlo Bosio n° 117- 119 P.T, int. 2, rendita catastale Euro 2.096,37.\n",
            "al valore d’asta di Euro 140.000 (centoquarantamila) offerta minima Euro 105.000 (centocinquemila)\n",
            "---------------\n",
            "In caso di gara ex art. 573 cpc eventuali offerte in aumento non potranno essere inferiori a: Euro 5.000 (cinquemila) LOTTO 3 Quota pari a 1/1 del diritto di piena proprietà della porzione immobiliare sita a Roma (RM), località ostia Lido, Via Carlo Bosio n° 109 e precisamente: - garage sito al piano S1 dell’edificio E, distinto con l’interno 22, della superficie di mq. 16, circa a confine con vano scale, rampa condominiale, salvo altri.\n",
            "---------------\n",
            "Avviso di vendita delega telematica asincrona 2020 [Rev 25/06/2020] 3 Detta Porzione Immobiliare è censita al catasto Fabbricati del Comune di Roma al Foglio 1079, Part. 1305, Sub. 47, Zc. 7, Categoria C/6, cl. 3, mq. 16, Via Carlo Bosio n° 109, S1, int. 22, edificio “E”, rendita catastale Euro 96,68.\n",
            "---------------\n",
            "al valore d’asta di Euro 7.500 (settemilacinquecento) offerta minima Euro 5.625 (cinquemilaseicentoventicinque)\n",
            "---------------\n",
            "In caso di gara ex art. 573 cpc eventuali offerte in aumento non potranno essere inferiori a: Euro 400 (quattrocento) LOTTO 4 Quota pari a 1/1 del diritto di piena proprietà della porzione immobiliare sita a Roma (RM), località ostia Lido, Via Carlo Bosio n° 107 e precisamente: - garage sito al piano S1 dell’edificio F, distinto con l’interno 22, della superficie di mq. 12, circa a confine con vano scale, rampa condominiale, salvo altri.\n",
            "---------------\n",
            "Detta Porzione Immobiliare è censita al catasto Fabbricati del Comune di Roma al Foglio 1079, Part. 1307, Sub. 47, Zc. 7, Categoria C/6, cl. 3, mq. 11, Via Carlo Bosio n° 107, P.\n",
            "al valore d’asta di Euro 5.000 (cinquemila) offerta minima Euro 3.750 (tremilasettecentocinquanta)\n",
            "---------------\n",
            "In caso di gara ex art. 573 cpc eventuali offerte in aumento non potranno essere inferiori a: Euro 300 ( trecento) LOTTO 5 Quota pari a 1/1 del diritto di piena proprietà della porzione immobiliare sita a Roma (RM), località ostia Lido, Via Ferdinando Acton n° 54 e precisamente: - cantina sita al piano S1 dell’edificio C, scala “B”, della superficie di mq. 58, circa a confine con corte condominiale su più lati, vano scale condominiale, salvo altri.\n",
            "---------------\n"
          ]
        }
      ]
    },
    {
      "cell_type": "code",
      "source": [
        "toTest = (\"\\n\".join(c))"
      ],
      "metadata": {
        "id": "vaHKW5yeISa2"
      },
      "execution_count": null,
      "outputs": []
    },
    {
      "cell_type": "code",
      "source": [
        "import spacy\n",
        "\n",
        "nlp = spacy.load(\"it_core_news_lg\")"
      ],
      "metadata": {
        "id": "12q1vkWvE0CY"
      },
      "execution_count": null,
      "outputs": []
    },
    {
      "cell_type": "code",
      "source": [
        "for d in c:\n",
        "  doc = nlp(text = d)\n",
        "  for ent in doc.ents:\n",
        "    print(ent.text, ent.label_)"
      ],
      "metadata": {
        "colab": {
          "base_uri": "https://localhost:8080/"
        },
        "id": "MU5JB1P7E8G7",
        "outputId": "6bd58fe2-ac42-41c3-aa58-09aff68f2932"
      },
      "execution_count": null,
      "outputs": [
        {
          "output_type": "stream",
          "name": "stdout",
          "text": [
            "Ener Bettica PER\n",
            "Negozio PER\n",
            "Piazza Ener LOC\n",
            "Porzione Immobiliare MISC\n",
            "Fabbricati LOC\n",
            "Comune di Roma al LOC\n",
            "Foglio LOC\n",
            "Sub. MISC\n",
            "Zc. MISC\n",
            "Categoria C1 MISC\n",
            "Piazza Ener Bettica MISC\n",
            "Euro LOC\n",
            "Ener Bettica PER\n",
            "Via Carlo Bosio PER\n",
            "Negozio PER\n",
            "Piazza Ener LOC\n",
            "Via Carlo Bosio MISC\n",
            "Porzione Immobiliare MISC\n",
            "Fabbricati LOC\n",
            "Comune di Roma al LOC\n",
            "Foglio LOC\n",
            "Sub. MISC\n",
            "Zc. MISC\n",
            "Categoria C1 MISC\n",
            "Piazza Ener Bettica MISC\n",
            "Via Carlo Bosio LOC\n",
            "Euro ORG\n",
            "Euro 140.000 MISC\n",
            "Euro ORG\n",
            "Euro 5.000 MISC\n",
            "Roma LOC\n",
            "RM LOC\n",
            "Lido LOC\n",
            "Via Carlo Bosio LOC\n",
            "piano S1 MISC\n",
            "Rev MISC\n",
            "Detta Porzione Immobiliare MISC\n",
            "Fabbricati LOC\n",
            "Comune di Roma al LOC\n",
            "Foglio LOC\n",
            "Sub. MISC\n",
            "Zc LOC\n",
            "Categoria LOC\n",
            "Via Carlo Bosio LOC\n",
            "S1 MISC\n",
            "Euro LOC\n",
            "Euro LOC\n",
            "Euro 5.625 MISC\n",
            "Euro 400 MISC\n",
            "Quota ORG\n",
            "Roma LOC\n",
            "RM LOC\n",
            "Lido LOC\n",
            "Via Carlo Bosio LOC\n",
            "piano S1 MISC\n",
            "Porzione Immobiliare MISC\n",
            "Fabbricati LOC\n",
            "Comune di Roma al LOC\n",
            "Foglio LOC\n",
            "Part. MISC\n",
            "Sub. MISC\n",
            "Zc LOC\n",
            "Categoria LOC\n",
            "Via Carlo Bosio LOC\n",
            "P.\n",
            "al valore MISC\n",
            "Euro 5.000 MISC\n",
            "Euro LOC\n",
            "Euro 300 MISC\n",
            "Roma LOC\n",
            "RM LOC\n",
            "Lido LOC\n",
            "Via Ferdinando Acton PER\n",
            "piano S1 MISC\n"
          ]
        }
      ]
    },
    {
      "cell_type": "code",
      "source": [
        "import spacy\n",
        "  \n",
        "nlp = spacy.load('it_core_news_lg')\n",
        "  \n",
        "print(\"Enter two space-separated words\")\n",
        "words = input()\n",
        "  \n",
        "tokens = nlp(words)\n",
        "\n",
        "  \n",
        "token1, token2 = tokens[0], tokens[1]\n",
        "  \n",
        "print(\"Similarity:\", token1.similarity(token2))"
      ],
      "metadata": {
        "colab": {
          "base_uri": "https://localhost:8080/"
        },
        "id": "jBcLFrTJKiCB",
        "outputId": "713de991-308e-4551-e89c-eaa732b53e2a"
      },
      "execution_count": null,
      "outputs": [
        {
          "output_type": "stream",
          "name": "stdout",
          "text": [
            "Enter two space-separated words\n",
            "mq metriquadri\n",
            "Similarity: 0.5101295709609985\n"
          ]
        }
      ]
    },
    {
      "cell_type": "code",
      "source": [
        "!pip install transformers -q"
      ],
      "metadata": {
        "colab": {
          "base_uri": "https://localhost:8080/"
        },
        "id": "pLB9xyDEP7Bs",
        "outputId": "d6dfa77b-b548-4cf7-cc06-d2156aa4ba73"
      },
      "execution_count": null,
      "outputs": [
        {
          "output_type": "stream",
          "name": "stdout",
          "text": [
            "\u001b[2K     \u001b[90m━━━━━━━━━━━━━━━━━━━━━━━━━━━━━━━━━━━━━━━━\u001b[0m \u001b[32m6.3/6.3 MB\u001b[0m \u001b[31m36.9 MB/s\u001b[0m eta \u001b[36m0:00:00\u001b[0m\n",
            "\u001b[2K     \u001b[90m━━━━━━━━━━━━━━━━━━━━━━━━━━━━━━━━━━━━━━\u001b[0m \u001b[32m199.2/199.2 KB\u001b[0m \u001b[31m17.7 MB/s\u001b[0m eta \u001b[36m0:00:00\u001b[0m\n",
            "\u001b[2K     \u001b[90m━━━━━━━━━━━━━━━━━━━━━━━━━━━━━━━━━━━━━━━━\u001b[0m \u001b[32m7.6/7.6 MB\u001b[0m \u001b[31m51.9 MB/s\u001b[0m eta \u001b[36m0:00:00\u001b[0m\n",
            "\u001b[?25h"
          ]
        }
      ]
    },
    {
      "cell_type": "code",
      "source": [
        "prova = ''' Piazza Ener Bettica n. 26, e precisamente:  - Negozio sito al piano terra dell’edificio E, con annessi bagno, antibagno e ripostiglio per una  superficie di mq. 44 circa a confine con  Piazza Ener Bettica, negozio sub. 4, viale condominiale,  salvo altri.\n",
        "Detta Porzione Immobiliare è censita al catasto Fabbricati del Comune di Roma al Foglio 1079, Part.  1305, Sub. 5, Zc. 7, Categoria C1, cl. 8, mq. 27, Piazza Ener Bettica n° 26, P.T, int. 1, rendita catastale  Euro 715,34.\n",
        "Piazza Ener Bettica n. 27/28, Via Carlo Bosio n° 117-119 e precisamente:  - Negozio sito al piano terra dell’edificio E, con annessi bagno, antibagno e ripostiglio per una  superficie di mq. 92 circa a confine con  Piazza Ener Bettica, negozio sub. 4, Via Carlo Bosio, salvo  altri.\n",
        "Detta Porzione Immobiliare è censita al catasto Fabbricati del Comune di Roma al Foglio 1079, Part.  1305, Sub. 4, Zc. 7, Categoria C1, cl. 7, mq. 92, Piazza Ener Bettica n° 26-28 Via Carlo Bosio n° 117- 119 P.T, int. 2, rendita catastale Euro 2.096,37.\n",
        "al valore d’asta di Euro 140.000 (centoquarantamila)  offerta minima Euro 105.000 (centocinquemila)    In caso di gara ex art. 573 cpc eventuali offerte in aumento non potranno essere inferiori a:  Euro 5.000 (cinquemila)  LOTTO 3    Quota pari a 1/1 del diritto di piena proprietà della porzione immobiliare sita a Roma (RM),  località ostia Lido, Via Carlo Bosio n° 109 e precisamente:  - garage sito al piano S1 dell’edificio E, distinto con l’interno 22, della superficie di mq. 16, circa a  confine con vano scale, rampa condominiale, salvo altri.\n",
        " Avviso di vendita delega telematica asincrona 2020  [Rev 25/06/2020]  3    Detta Porzione Immobiliare è censita al catasto Fabbricati del Comune di Roma al Foglio 1079, Part.  1305, Sub. 47, Zc. 7, Categoria C/6, cl. 3, mq. 16, Via Carlo Bosio n° 109, S1, int. 22, edificio “E”,  rendita catastale Euro 96,68.\n",
        "al valore d’asta di Euro 7.500 (settemilacinquecento)  offerta minima Euro 5.625 (cinquemilaseicentoventicinque)    In caso di gara ex art. 573 cpc eventuali offerte in aumento non potranno essere inferiori a:  Euro 400 (quattrocento)  LOTTO 4    Quota pari a 1/1 del diritto di piena proprietà della porzione immobiliare sita a Roma (RM),  località ostia Lido, Via Carlo Bosio n° 107 e precisamente:  - garage sito al piano S1 dell’edificio F, distinto con l’interno 22, della superficie di mq. 12, circa a  confine con vano scale, rampa condominiale, salvo altri.\n",
        "Detta Porzione Immobiliare è censita al catasto Fabbricati del Comune di Roma al Foglio 1079, Part.  1307, Sub. 47, Zc. 7, Categoria C/6, cl. 3, mq. 11, Via Carlo Bosio n° 107, P.\n",
        "al valore d’asta di Euro 5.000 (cinquemila)  offerta minima Euro 3.750 (tremilasettecentocinquanta)    In caso di gara ex art. 573 cpc eventuali offerte in aumento non potranno essere inferiori a:  Euro 300 ( trecento)  LOTTO 5    Quota pari a 1/1 del diritto di piena proprietà della porzione immobiliare sita a Roma (RM),  località ostia Lido, Via Ferdinando Acton n° 54 e precisamente:  - cantina sita al piano S1 dell’edificio C, scala “B”, della superficie di mq. 58, circa a confine con corte  condominiale su più lati, vano scale condominiale, salvo altri.\n",
        "Avviso di vendita delega telematica asincrona 2020  [Rev 25/06/2020]  4    Detta Porzione Immobiliare è censita al catasto Fabbricati del Comune di Roma al Foglio 1100, Part.  2, Sub. 45, Zc. 7, Categoria C/2, cl. 6, mq. 58, Via Ferdinado Acton n° 54, P.\n",
        "al valore d’asta di Euro 18.480 (diciottomilaquattrocentottanta)  offerta minima Euro 13.860 (tredicimilaottocentosessanta)    In caso di gara ex art. 573 cpc eventuali offerte in aumento non potranno essere inferiori a:  Euro 500 (cinquecento)  LOTTO 6    Quota pari a 1/1 del diritto di piena proprietà della porzione immobiliare sita a Roma (RM),  località ostia Lido, Via Ferdinando Acton n° 54 e precisamente:  - cantina sita al piano S1 dell’edificio C, scala “A”, della superficie di mq. 107, circa a confine con  corte condominiale su più lati, vano scale, salvo altri.\n",
        "Detta Porzione Immobiliare è censita al catasto Fabbricati del Comune di Roma al Foglio 1100, Part.  2, Sub. 23, Zc. 7, Categoria C/2, cl. 6, mq. 107, Via Ferdinado Acton n° 54, P.\n",
        "al valore d’asta di Euro 27.280 (ventisettemiladuecentottanta)  offerta minima Euro 20.420 (ventimilaquattrocentoventi)    In caso di gara ex art. 573 cpc eventuali offerte in aumento non potranno essere inferiori a:  Euro 2.000 (duemila)  LOTTO 7    Avviso di vendita delega telematica asincrona 2020  [Rev 25/06/2020]  5    Quota pari a 1/1 del diritto di piena proprietà della porzione immobiliare sita a Roma (RM),  località ostia Lido, Via Ferdinando Acton n° 56 e precisamente:  - magazzino sito al piano S1 dell’edificio D, scala “A”, della superficie di mq. 114, circa a confine con  corte condominiale su più lati, vano scale, salvo altri.\n",
        "Detta Porzione Immobiliare è censita al catasto Fabbricati del Comune di Roma al Foglio 1100, Part.  181, Sub. 23, Zc. 7, Categoria C/2, cl. 6, mq. 115, Via Ferdinado Acton n° 56, P.\n",
        "al valore d’asta di Euro 40.800 (quarantamilaottocento)  offerta minima Euro 30.600 (trentamilaseicento)    In caso di gara ex art. 573 cpc eventuali offerte in aumento non potranno essere inferiori a:  Euro 3.000 (tremila)  LOTTO 8    Quota pari a 1/1 del diritto di piena proprietà della porzione immobiliare sita a Roma (RM),  località ostia Lido, Via Ferdinando Acton n° 58 e precisamente:  - magazzino sito al piano S1 dell’edificio E, scala “B”, della superficie di mq. 114, circa a confine con  corte condominiale su più lati, vano scale, salvo altri.\n",
        "Detta Porzione Immobiliare è censita al catasto Fabbricati del Comune di Roma al Foglio 1100, Part.  6, Sub. 45, Zc. 7, Categoria C/2, cl. 6, mq. 106, Via Ferdinado Acton n° 58, P.\n",
        "al valore d’asta di Euro 32.000 (tgrentaduemila)  offerta minima Euro 24.000 (ventiquattromila)    In caso di gara ex art. 573 cpc eventuali offerte in aumento non potranno essere inferiori a:  Euro 2.500 (duemilacinquecento)  Avviso di vendita delega telematica asincrona 2020  [Rev 25/06/2020]  6    LOTTO 9    Quota pari a 1/1 del diritto di piena proprietà della porzione immobiliare sita a Roma (RM),  località ostia Lido, Via Ferdinando Acton n° 58 e precisamente:  - magazzino sito al piano S1 dell’edificio E, scala “A”, della superficie di mq. 58, circa a confine con  corte condominiale  vano scale condominiale, corridoio d’accesso, salvo altri.\n",
        "Detta Porzione Immobiliare è censita al catasto Fabbricati del Comune di Roma al Foglio 1100, Part.  6, Sub. 23, Zc. 7, Categoria C/2, cl. 6, mq. 58, Via Ferdinado Acton n° 58, P.\n",
        "al valore d’asta di Euro 17.200 (diciassettemiladuecento)  offerta minima Euro 12.900 (dodicimilanovecento)    In caso di gara ex art. 573 cpc eventuali offerte in aumento non potranno essere inferiori a:  Euro 1.000 (mille)  LOTTO 10    Quota pari a 1/1 del diritto di piena proprietà della porzione immobiliare sita a Roma (RM),  località ostia Lido, Via Danilo Stiepovich n° 129 e precisamente:  - negozio sito al piano terra dell’edificio A, della superficie di mq. 53 circa a confine con Via Danilo  Stiepovich, subalterni 1 e 509 della particella 1401, salvo altri.\n",
        "Detta Porzione Immobiliare è censita al catasto Fabbricati del Comune di Roma al Foglio 1079, Part.  1041, Sub. 508, Zc. 7, Categoria C/1, cl. 7, mq. 55, Via Danilo Stiepovich n° 129-131, P.\n",
        "al valore d’asta di Euro 85.600 (ottantacinquemilaseicento)  offerta minima Euro 64.200 (sessantaquattromiladuecento)  Avviso di vendita delega telematica asincrona 2020  [Rev 25/06/2020]  7      In caso di gara ex art. 573 cpc eventuali offerte in aumento non potranno essere inferiori a:  Euro 5.000 (cinquemila)  LOTTO 11    Quota pari a 1/1 del diritto di piena proprietà della porzione immobiliare sita a Roma (RM),  località ostia Lido, Via Danilo Stiepovich n° 133-135-137 e precisamente:  - negozio sito al piano terra, della superficie di mq. 80 circa a confine con Via Danilo Stiepovich,  subalterno 508 della particella 1401, Via Armando Crisciani, salvo altri.\n",
        "Detta Porzione Immobiliare è censita al catasto Fabbricati del Comune di Roma al Foglio 1079, Part.  1041, Sub. 509, Zc. 7, Categoria C/1, cl. 7, mq. 70, Via Danilo Stiepovich n° 133-135-137, Via  Armando Crisciani, P.\n",
        "al valore d’asta di Euro 123.200 (centoventitremiladuecento)  offerta minima Euro 92.400 (novantaduemilaquattrocento)    In caso di gara ex art. 573 cpc eventuali offerte in aumento non potranno essere inferiori a:  Euro 5.000 (cinquemila)  LOTTO 12    Quota pari a 1/1 del diritto di piena proprietà della porzione immobiliare sita a Roma (RM),  località ostia Lido, Via Armando Crisciani n° 22/24 e precisamente:  - negozio sito al piano terra dell’edificio “A”, della superficie di mq. 50 circa a confine con subalterni  509 e 511 della particella 1401, Via Armando Crisciani, salvo altri.\n",
        "Detta Porzione Immobiliare è censita al catasto Fabbricati del Comune di Roma al Foglio 1079, Part.  1041, Sub. 510, Zc. 7, Categoria C/1, cl. 7, mq. 50, Via Armando Crisciani 22-24, P.\n",
        "al valore d’asta di Euro 72.000 (settantaduemila)  offerta minima Euro 54.000 (cinquantaquattromila)    In caso di gara ex art. 573 cpc eventuali offerte in aumento non potranno essere inferiori a:  Euro 3.500 (tremilacinquecento)  LOTTO 13    Quota pari a 1/1 del diritto di piena proprietà della porzione immobiliare sita a Roma (RM),  località ostia Lido, Via Armando Crisciani n° 20 e precisamente:  - negozio sito al piano terra dell’edificio “A”, della superficie di mq. 61 circa a confine con subalterni  6 e 510 della particella 1401, Via Armando Crisciani, salvo altri.\n",
        "Detta Porzione Immobiliare è censita al catasto Fabbricati del Comune di Roma al Foglio 1079, Part.  1041, Sub. 511, Zc. 7, Categoria C/1, cl. 7, mq. 64, Via Armando Crisciani 20, P.'''"
      ],
      "metadata": {
        "id": "Cz-WFCn7R1F3"
      },
      "execution_count": null,
      "outputs": []
    },
    {
      "cell_type": "code",
      "source": [
        "c = get_sentences(prova)"
      ],
      "metadata": {
        "colab": {
          "base_uri": "https://localhost:8080/"
        },
        "id": "AOakcDUVSYuS",
        "outputId": "3df860fa-dfcb-442c-a55a-8167671ec0f8"
      },
      "execution_count": null,
      "outputs": [
        {
          "output_type": "stream",
          "name": "stdout",
          "text": [
            "Piazza Ener Bettica n. 26, e precisamente: - Negozio sito al piano terra dell’edificio E, con annessi bagno, antibagno e ripostiglio per una superficie di mq. 44 circa a confine con Piazza Ener Bettica, negozio sub. 4, viale condominiale, salvo altri.\n",
            "---------------\n",
            "Detta Porzione Immobiliare è censita al catasto Fabbricati del Comune di Roma al Foglio 1079, Part. 1305, Sub. 5, Zc. 7, Categoria C1, cl. 8, mq. 27, Piazza Ener Bettica n° 26, P.T, int. 1, rendita catastale Euro 715,34.\n",
            "---------------\n",
            "Piazza Ener Bettica n. 27/28, Via Carlo Bosio n° 117-119 e precisamente: - Negozio sito al piano terra dell’edificio E, con annessi bagno, antibagno e ripostiglio per una superficie di mq. 92 circa a confine con Piazza Ener Bettica, negozio sub. 4, Via Carlo Bosio, salvo altri.\n",
            "---------------\n",
            "Detta Porzione Immobiliare è censita al catasto Fabbricati del Comune di Roma al Foglio 1079, Part. 1305, Sub. 4, Zc. 7, Categoria C1, cl. 7, mq. 92, Piazza Ener Bettica n° 26-28 Via Carlo Bosio n° 117- 119 P.T, int. 2, rendita catastale Euro 2.096,37.\n",
            "al valore d’asta di Euro 140.000 (centoquarantamila) offerta minima Euro 105.000 (centocinquemila)\n",
            "---------------\n",
            "In caso di gara ex art. 573 cpc eventuali offerte in aumento non potranno essere inferiori a: Euro 5.000 (cinquemila) LOTTO 3 Quota pari a 1/1 del diritto di piena proprietà della porzione immobiliare sita a Roma (RM), località ostia Lido, Via Carlo Bosio n° 109 e precisamente: - garage sito al piano S1 dell’edificio E, distinto con l’interno 22, della superficie di mq. 16, circa a confine con vano scale, rampa condominiale, salvo altri.\n",
            "---------------\n",
            "Avviso di vendita delega telematica asincrona 2020 [Rev 25/06/2020] 3 Detta Porzione Immobiliare è censita al catasto Fabbricati del Comune di Roma al Foglio 1079, Part. 1305, Sub. 47, Zc. 7, Categoria C/6, cl. 3, mq. 16, Via Carlo Bosio n° 109, S1, int. 22, edificio “E”, rendita catastale Euro 96,68.\n",
            "---------------\n",
            "al valore d’asta di Euro 7.500 (settemilacinquecento) offerta minima Euro 5.625 (cinquemilaseicentoventicinque)\n",
            "---------------\n",
            "In caso di gara ex art. 573 cpc eventuali offerte in aumento non potranno essere inferiori a: Euro 400 (quattrocento) LOTTO 4 Quota pari a 1/1 del diritto di piena proprietà della porzione immobiliare sita a Roma (RM), località ostia Lido, Via Carlo Bosio n° 107 e precisamente: - garage sito al piano S1 dell’edificio F, distinto con l’interno 22, della superficie di mq. 12, circa a confine con vano scale, rampa condominiale, salvo altri.\n",
            "---------------\n",
            "Detta Porzione Immobiliare è censita al catasto Fabbricati del Comune di Roma al Foglio 1079, Part. 1307, Sub. 47, Zc. 7, Categoria C/6, cl. 3, mq. 11, Via Carlo Bosio n° 107, P.\n",
            "al valore d’asta di Euro 5.000 (cinquemila) offerta minima Euro 3.750 (tremilasettecentocinquanta)\n",
            "---------------\n",
            "In caso di gara ex art. 573 cpc eventuali offerte in aumento non potranno essere inferiori a: Euro 300 ( trecento) LOTTO 5 Quota pari a 1/1 del diritto di piena proprietà della porzione immobiliare sita a Roma (RM), località ostia Lido, Via Ferdinando Acton n° 54 e precisamente: - cantina sita al piano S1 dell’edificio C, scala “B”, della superficie di mq. 58, circa a confine con corte condominiale su più lati, vano scale condominiale, salvo altri.\n",
            "---------------\n",
            "Avviso di vendita delega telematica asincrona 2020 [Rev 25/06/2020] 4 Detta Porzione Immobiliare è censita al catasto Fabbricati del Comune di Roma al Foglio 1100, Part. 2, Sub. 45, Zc. 7, Categoria C/2, cl. 6, mq. 58, Via Ferdinado Acton n° 54, P.\n",
            "al valore d’asta di Euro 18.480 (diciottomilaquattrocentottanta) offerta minima Euro 13.860 (tredicimilaottocentosessanta)\n",
            "---------------\n",
            "In caso di gara ex art. 573 cpc eventuali offerte in aumento non potranno essere inferiori a: Euro 500 (cinquecento) LOTTO 6 Quota pari a 1/1 del diritto di piena proprietà della porzione immobiliare sita a Roma (RM), località ostia Lido, Via Ferdinando Acton n° 54 e precisamente: - cantina sita al piano S1 dell’edificio C, scala “A”, della superficie di mq. 107, circa a confine con corte condominiale su più lati, vano scale, salvo altri.\n",
            "---------------\n",
            "Detta Porzione Immobiliare è censita al catasto Fabbricati del Comune di Roma al Foglio 1100, Part. 2, Sub. 23, Zc. 7, Categoria C/2, cl. 6, mq. 107, Via Ferdinado Acton n° 54, P.\n",
            "al valore d’asta di Euro 27.280 (ventisettemiladuecentottanta) offerta minima Euro 20.420 (ventimilaquattrocentoventi)\n",
            "---------------\n",
            "In caso di gara ex art. 573 cpc eventuali offerte in aumento non potranno essere inferiori a: Euro 2.000 (duemila) LOTTO 7 Avviso di vendita delega telematica asincrona 2020 [Rev 25/06/2020] 5 Quota pari a 1/1 del diritto di piena proprietà della porzione immobiliare sita a Roma (RM), località ostia Lido, Via Ferdinando Acton n° 56 e precisamente: - magazzino sito al piano S1 dell’edificio D, scala “A”, della superficie di mq. 114, circa a confine con corte condominiale su più lati, vano scale, salvo altri.\n",
            "---------------\n",
            "Detta Porzione Immobiliare è censita al catasto Fabbricati del Comune di Roma al Foglio 1100, Part. 181, Sub. 23, Zc. 7, Categoria C/2, cl. 6, mq. 115, Via Ferdinado Acton n° 56, P.\n",
            "al valore d’asta di Euro 40.800 (quarantamilaottocento) offerta minima Euro 30.600 (trentamilaseicento)\n",
            "---------------\n",
            "In caso di gara ex art. 573 cpc eventuali offerte in aumento non potranno essere inferiori a: Euro 3.000 (tremila) LOTTO 8 Quota pari a 1/1 del diritto di piena proprietà della porzione immobiliare sita a Roma (RM), località ostia Lido, Via Ferdinando Acton n° 58 e precisamente: - magazzino sito al piano S1 dell’edificio E, scala “B”, della superficie di mq. 114, circa a confine con corte condominiale su più lati, vano scale, salvo altri.\n",
            "---------------\n",
            "Detta Porzione Immobiliare è censita al catasto Fabbricati del Comune di Roma al Foglio 1100, Part. 6, Sub. 45, Zc. 7, Categoria C/2, cl. 6, mq. 106, Via Ferdinado Acton n° 58, P.\n",
            "al valore d’asta di Euro 32.000 (tgrentaduemila) offerta minima Euro 24.000 (ventiquattromila)\n",
            "---------------\n",
            "In caso di gara ex art. 573 cpc eventuali offerte in aumento non potranno essere inferiori a: Euro 2.500 (duemilacinquecento) Avviso di vendita delega telematica asincrona 2020 [Rev 25/06/2020] 6 LOTTO 9 Quota pari a 1/1 del diritto di piena proprietà della porzione immobiliare sita a Roma (RM), località ostia Lido, Via Ferdinando Acton n° 58 e precisamente: - magazzino sito al piano S1 dell’edificio E, scala “A”, della superficie di mq. 58, circa a confine con corte condominiale vano scale condominiale, corridoio d’accesso, salvo altri.\n",
            "---------------\n",
            "Detta Porzione Immobiliare è censita al catasto Fabbricati del Comune di Roma al Foglio 1100, Part. 6, Sub. 23, Zc. 7, Categoria C/2, cl. 6, mq. 58, Via Ferdinado Acton n° 58, P.\n",
            "al valore d’asta di Euro 17.200 (diciassettemiladuecento) offerta minima Euro 12.900 (dodicimilanovecento)\n",
            "---------------\n",
            "In caso di gara ex art. 573 cpc eventuali offerte in aumento non potranno essere inferiori a: Euro 1.000 (mille) LOTTO 10 Quota pari a 1/1 del diritto di piena proprietà della porzione immobiliare sita a Roma (RM), località ostia Lido, Via Danilo Stiepovich n° 129 e precisamente: - negozio sito al piano terra dell’edificio A, della superficie di mq. 53 circa a confine con Via Danilo Stiepovich, subalterni 1 e 509 della particella 1401, salvo altri.\n",
            "---------------\n",
            "Detta Porzione Immobiliare è censita al catasto Fabbricati del Comune di Roma al Foglio 1079, Part. 1041, Sub. 508, Zc. 7, Categoria C/1, cl. 7, mq. 55, Via Danilo Stiepovich n° 129-131, P.\n",
            "al valore d’asta di Euro 85.600 (ottantacinquemilaseicento) offerta minima Euro 64.200 (sessantaquattromiladuecento) Avviso di vendita delega telematica asincrona 2020 [Rev 25/06/2020] 7 In caso di gara ex art. 573 cpc eventuali offerte in aumento non potranno essere inferiori a: Euro 5.000 (cinquemila) LOTTO 11 Quota pari a 1/1 del diritto di piena proprietà della porzione immobiliare sita a Roma (RM), località ostia Lido, Via Danilo Stiepovich n° 133-135-137 e precisamente: - negozio sito al piano terra, della superficie di mq. 80 circa a confine con Via Danilo Stiepovich, subalterno 508 della particella 1401, Via Armando Crisciani, salvo altri.\n",
            "---------------\n",
            "Detta Porzione Immobiliare è censita al catasto Fabbricati del Comune di Roma al Foglio 1079, Part. 1041, Sub. 509, Zc. 7, Categoria C/1, cl. 7, mq. 70, Via Danilo Stiepovich n° 133-135-137, Via Armando Crisciani, P.\n",
            "al valore d’asta di Euro 123.200 (centoventitremiladuecento) offerta minima Euro 92.400 (novantaduemilaquattrocento)\n",
            "---------------\n",
            "In caso di gara ex art. 573 cpc eventuali offerte in aumento non potranno essere inferiori a: Euro 5.000 (cinquemila) LOTTO 12 Quota pari a 1/1 del diritto di piena proprietà della porzione immobiliare sita a Roma (RM), località ostia Lido, Via Armando Crisciani n° 22/24 e precisamente: - negozio sito al piano terra dell’edificio “A”, della superficie di mq. 50 circa a confine con subalterni 509 e 511 della particella 1401, Via Armando Crisciani, salvo altri.\n",
            "---------------\n",
            "Detta Porzione Immobiliare è censita al catasto Fabbricati del Comune di Roma al Foglio 1079, Part. 1041, Sub. 510, Zc. 7, Categoria C/1, cl. 7, mq. 50, Via Armando Crisciani 22-24, P.\n",
            "al valore d’asta di Euro 72.000 (settantaduemila) offerta minima Euro 54.000 (cinquantaquattromila)\n",
            "---------------\n",
            "In caso di gara ex art. 573 cpc eventuali offerte in aumento non potranno essere inferiori a: Euro 3.500 (tremilacinquecento) LOTTO 13 Quota pari a 1/1 del diritto di piena proprietà della porzione immobiliare sita a Roma (RM), località ostia Lido, Via Armando Crisciani n° 20 e precisamente: - negozio sito al piano terra dell’edificio “A”, della superficie di mq. 61 circa a confine con subalterni 6 e 510 della particella 1401, Via Armando Crisciani, salvo altri.\n",
            "---------------\n",
            "Detta Porzione Immobiliare è censita al catasto Fabbricati del Comune di Roma al Foglio 1079, Part. 1041, Sub. 511, Zc. 7, Categoria C/1, cl. 7, mq. 64, Via Armando Crisciani 20, P.\n",
            "---------------\n"
          ]
        }
      ]
    }
  ]
}