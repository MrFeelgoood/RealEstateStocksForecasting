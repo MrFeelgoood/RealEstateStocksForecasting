{
  "nbformat": 4,
  "nbformat_minor": 0,
  "metadata": {
    "colab": {
      "provenance": []
    },
    "kernelspec": {
      "name": "python3",
      "display_name": "Python 3"
    },
    "language_info": {
      "name": "python"
    }
  },
  "cells": [
    {
      "cell_type": "code",
      "source": [
        "!sudo apt install libtesseract-dev\n",
        "!sudo apt install tesseract-ocr-ita\n",
        "!pip install pytesseract -q\n",
        "!pip install PyPDF2 -q\n",
        "!pip install pdf2image -q\n",
        "!pip install pymupdf -q\n",
        "!apt-get install poppler-utils -q\n",
        "!pip install easyocr -q"
      ],
      "metadata": {
        "id": "6QmQa0Ps6i1u"
      },
      "execution_count": null,
      "outputs": []
    },
    {
      "cell_type": "code",
      "source": [
        "import os\n",
        "import requests\n",
        "import fitz\n",
        "from pdf2image import convert_from_bytes\n",
        "import pytesseract\n",
        "import easyocr"
      ],
      "metadata": {
        "id": "H71Fvwyy6jvF"
      },
      "execution_count": null,
      "outputs": []
    },
    {
      "cell_type": "code",
      "execution_count": null,
      "metadata": {
        "id": "WLVb3CMt6azA"
      },
      "outputs": [],
      "source": [
        "def process_pdfs_and_save(urls_or_paths, easy_ocr = False):\n",
        "    directory = '/content/drive/path_to_folder'\n",
        "    files = [f for f in os.listdir(directory) if f.startswith('ftx-') and f.endswith('.txt')]\n",
        "    if easy_ocr == True:\n",
        "      reader = easyocr.Reader(['it'], gpu = True)\n",
        "\n",
        "    with requests.Session() as session:\n",
        "        for url_or_path in urls_or_paths:\n",
        "            to_check = \"ftx-\" + url_or_path.replace('/', '_') + \".txt\"\n",
        "            # Check if the URL/Path is already processed\n",
        "            if to_check in files:\n",
        "                continue\n",
        "\n",
        "            # Check if the URL points to a PDF file\n",
        "            if not url_or_path.endswith(\".pdf\"):\n",
        "                continue\n",
        "\n",
        "            # Check if the URL/Path is a URL or a file path\n",
        "            if url_or_path.startswith(\"http\"):\n",
        "                # Download the PDF file from the URL\n",
        "                response = session.get(url_or_path)\n",
        "                content = response.content\n",
        "            else:\n",
        "                # Read the PDF file from the file path\n",
        "                with open(url_or_path, \"rb\") as f:\n",
        "                    content = f.read()\n",
        "\n",
        "            # Open the PDF content using PyMuPDF\n",
        "            with fitz.open(stream=content, filetype=\"pdf\") as doc:\n",
        "                num_pages = len(doc)\n",
        "\n",
        "                # Extract text from the PDF\n",
        "                text = \"\"\n",
        "                for page in doc:\n",
        "                    text += page.get_text()\n",
        "\n",
        "                # Perform OCR on the PDF if the extracted text is empty\n",
        "                if not text:\n",
        "                    # Skip OCR if the number of pages is greater than or equal to 50\n",
        "                    if num_pages >= 50 and easy_ocr == False:\n",
        "                        continue\n",
        "\n",
        "                    # Convert PDF pages to images\n",
        "                    images = convert_from_bytes(content)\n",
        "\n",
        "                    # Perform OCR on the images using Tesseract\n",
        "                    for i, img in enumerate(images):\n",
        "                        if easy_ocr == False:\n",
        "                          text += pytesseract.image_to_string(img, lang='ita')\n",
        "                          # Perform OCR on the images using EasyOcr\n",
        "                        else: \n",
        "                          text += reader.readtext(page, batch_size = 50, detail = 0)\n",
        "\n",
        "                    # Clear the image list to free up memory\n",
        "                    del images\n",
        "\n",
        "                # Save the text content to a TXT file\n",
        "                filepath = os.path.join(directory, to_check)\n",
        "                with open(filepath, \"w\") as f:\n",
        "                    f.write(text)\n",
        "    return True\n"
      ]
    }
  ]
}